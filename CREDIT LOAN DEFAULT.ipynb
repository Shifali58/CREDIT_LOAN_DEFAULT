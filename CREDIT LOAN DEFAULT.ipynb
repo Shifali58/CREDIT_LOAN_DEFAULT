{
 "cells": [
  {
   "cell_type": "markdown",
   "metadata": {},
   "source": [
    "# CREDIT LOAN DEFAULT PREDICTION"
   ]
  },
  {
   "cell_type": "markdown",
   "metadata": {},
   "source": [
    "# import the necessary libraries and dataset."
   ]
  },
  {
   "cell_type": "code",
   "execution_count": 1,
   "metadata": {},
   "outputs": [
    {
     "data": {
      "text/html": [
       "<div>\n",
       "<style scoped>\n",
       "    .dataframe tbody tr th:only-of-type {\n",
       "        vertical-align: middle;\n",
       "    }\n",
       "\n",
       "    .dataframe tbody tr th {\n",
       "        vertical-align: top;\n",
       "    }\n",
       "\n",
       "    .dataframe thead th {\n",
       "        text-align: right;\n",
       "    }\n",
       "</style>\n",
       "<table border=\"1\" class=\"dataframe\">\n",
       "  <thead>\n",
       "    <tr style=\"text-align: right;\">\n",
       "      <th></th>\n",
       "      <th>Variable Name</th>\n",
       "      <th>Description</th>\n",
       "      <th>Unnamed: 2</th>\n",
       "    </tr>\n",
       "  </thead>\n",
       "  <tbody>\n",
       "    <tr>\n",
       "      <td>0</td>\n",
       "      <td>UniqueID</td>\n",
       "      <td>Identifier for customers</td>\n",
       "      <td>NaN</td>\n",
       "    </tr>\n",
       "    <tr>\n",
       "      <td>1</td>\n",
       "      <td>loan_default</td>\n",
       "      <td>Payment default in the first EMI on due date</td>\n",
       "      <td>NaN</td>\n",
       "    </tr>\n",
       "    <tr>\n",
       "      <td>2</td>\n",
       "      <td>disbursed_amount</td>\n",
       "      <td>Amount of Loan disbursed</td>\n",
       "      <td>NaN</td>\n",
       "    </tr>\n",
       "    <tr>\n",
       "      <td>3</td>\n",
       "      <td>asset_cost</td>\n",
       "      <td>Cost of the Asset</td>\n",
       "      <td>NaN</td>\n",
       "    </tr>\n",
       "    <tr>\n",
       "      <td>4</td>\n",
       "      <td>ltv</td>\n",
       "      <td>Loan to Value of the asset</td>\n",
       "      <td>NaN</td>\n",
       "    </tr>\n",
       "    <tr>\n",
       "      <td>5</td>\n",
       "      <td>branch_id</td>\n",
       "      <td>Branch where the loan was disbursed</td>\n",
       "      <td>NaN</td>\n",
       "    </tr>\n",
       "    <tr>\n",
       "      <td>6</td>\n",
       "      <td>supplier_id</td>\n",
       "      <td>Vehicle Dealer where the loan was disbursed</td>\n",
       "      <td>NaN</td>\n",
       "    </tr>\n",
       "    <tr>\n",
       "      <td>7</td>\n",
       "      <td>manufacturer_id</td>\n",
       "      <td>Vehicle manufacturer(Hero, Honda, TVS etc.)</td>\n",
       "      <td>NaN</td>\n",
       "    </tr>\n",
       "    <tr>\n",
       "      <td>8</td>\n",
       "      <td>Current_pincode</td>\n",
       "      <td>Current pincode of the customer</td>\n",
       "      <td>NaN</td>\n",
       "    </tr>\n",
       "    <tr>\n",
       "      <td>9</td>\n",
       "      <td>Date.of.Birth</td>\n",
       "      <td>Date of birth of the customer</td>\n",
       "      <td>NaN</td>\n",
       "    </tr>\n",
       "    <tr>\n",
       "      <td>10</td>\n",
       "      <td>Employment.Type</td>\n",
       "      <td>Employment Type of the customer (Salaried/Self...</td>\n",
       "      <td>NaN</td>\n",
       "    </tr>\n",
       "    <tr>\n",
       "      <td>11</td>\n",
       "      <td>DisbursalDate</td>\n",
       "      <td>Date of disbursement</td>\n",
       "      <td>NaN</td>\n",
       "    </tr>\n",
       "    <tr>\n",
       "      <td>12</td>\n",
       "      <td>State_ID</td>\n",
       "      <td>State of disbursement</td>\n",
       "      <td>NaN</td>\n",
       "    </tr>\n",
       "    <tr>\n",
       "      <td>13</td>\n",
       "      <td>Employee_code_ID</td>\n",
       "      <td>Employee of the organization who logged the di...</td>\n",
       "      <td>NaN</td>\n",
       "    </tr>\n",
       "    <tr>\n",
       "      <td>14</td>\n",
       "      <td>MobileNo_Avl_Flag</td>\n",
       "      <td>if Mobile no. was shared by the customer then ...</td>\n",
       "      <td>NaN</td>\n",
       "    </tr>\n",
       "    <tr>\n",
       "      <td>15</td>\n",
       "      <td>Aadhar_flag</td>\n",
       "      <td>if aadhar was shared by the customer then flag...</td>\n",
       "      <td>NaN</td>\n",
       "    </tr>\n",
       "    <tr>\n",
       "      <td>16</td>\n",
       "      <td>PAN_flag</td>\n",
       "      <td>if pan was shared by the customer then flagged...</td>\n",
       "      <td>NaN</td>\n",
       "    </tr>\n",
       "    <tr>\n",
       "      <td>17</td>\n",
       "      <td>VoterID_flag</td>\n",
       "      <td>if voter  was shared by the customer then flag...</td>\n",
       "      <td>NaN</td>\n",
       "    </tr>\n",
       "    <tr>\n",
       "      <td>18</td>\n",
       "      <td>Driving_flag</td>\n",
       "      <td>if DL was shared by the customer then flagged ...</td>\n",
       "      <td>NaN</td>\n",
       "    </tr>\n",
       "    <tr>\n",
       "      <td>19</td>\n",
       "      <td>Passport_flag</td>\n",
       "      <td>if passport was shared by the customer then fl...</td>\n",
       "      <td>NaN</td>\n",
       "    </tr>\n",
       "    <tr>\n",
       "      <td>20</td>\n",
       "      <td>PERFORM_CNS.SCORE</td>\n",
       "      <td>Bureau Score</td>\n",
       "      <td>NaN</td>\n",
       "    </tr>\n",
       "    <tr>\n",
       "      <td>21</td>\n",
       "      <td>PERFORM_CNS.SCORE.DESCRIPTION</td>\n",
       "      <td>Bureau score description</td>\n",
       "      <td>NaN</td>\n",
       "    </tr>\n",
       "    <tr>\n",
       "      <td>22</td>\n",
       "      <td>PRI.NO.OF.ACCTS</td>\n",
       "      <td>count of total loans taken by the customer at ...</td>\n",
       "      <td>Primary accounts are those which the customer ...</td>\n",
       "    </tr>\n",
       "    <tr>\n",
       "      <td>23</td>\n",
       "      <td>PRI.ACTIVE.ACCTS</td>\n",
       "      <td>count of active loans taken by the customer at...</td>\n",
       "      <td>NaN</td>\n",
       "    </tr>\n",
       "    <tr>\n",
       "      <td>24</td>\n",
       "      <td>PRI.OVERDUE.ACCTS</td>\n",
       "      <td>count of default accounts at the time of disbu...</td>\n",
       "      <td>NaN</td>\n",
       "    </tr>\n",
       "    <tr>\n",
       "      <td>25</td>\n",
       "      <td>PRI.CURRENT.BALANCE</td>\n",
       "      <td>total Principal outstanding amount of the acti...</td>\n",
       "      <td>NaN</td>\n",
       "    </tr>\n",
       "    <tr>\n",
       "      <td>26</td>\n",
       "      <td>PRI.SANCTIONED.AMOUNT</td>\n",
       "      <td>total amount that was sanctioned for all the l...</td>\n",
       "      <td>NaN</td>\n",
       "    </tr>\n",
       "    <tr>\n",
       "      <td>27</td>\n",
       "      <td>PRI.DISBURSED.AMOUNT</td>\n",
       "      <td>total amount that was disbursed for all the lo...</td>\n",
       "      <td>NaN</td>\n",
       "    </tr>\n",
       "    <tr>\n",
       "      <td>28</td>\n",
       "      <td>SEC.NO.OF.ACCTS</td>\n",
       "      <td>count of total loans taken by the customer at ...</td>\n",
       "      <td>Secondary accounts are those which the custome...</td>\n",
       "    </tr>\n",
       "    <tr>\n",
       "      <td>29</td>\n",
       "      <td>SEC.ACTIVE.ACCTS</td>\n",
       "      <td>count of active loans taken by the customer at...</td>\n",
       "      <td>NaN</td>\n",
       "    </tr>\n",
       "    <tr>\n",
       "      <td>30</td>\n",
       "      <td>SEC.OVERDUE.ACCTS</td>\n",
       "      <td>count of default accounts at the time of disbu...</td>\n",
       "      <td>NaN</td>\n",
       "    </tr>\n",
       "    <tr>\n",
       "      <td>31</td>\n",
       "      <td>SEC.CURRENT.BALANCE</td>\n",
       "      <td>total Principal outstanding amount of the acti...</td>\n",
       "      <td>NaN</td>\n",
       "    </tr>\n",
       "    <tr>\n",
       "      <td>32</td>\n",
       "      <td>SEC.SANCTIONED.AMOUNT</td>\n",
       "      <td>total amount that was sanctioned for all the l...</td>\n",
       "      <td>NaN</td>\n",
       "    </tr>\n",
       "    <tr>\n",
       "      <td>33</td>\n",
       "      <td>SEC.DISBURSED.AMOUNT</td>\n",
       "      <td>total amount that was disbursed for all the lo...</td>\n",
       "      <td>NaN</td>\n",
       "    </tr>\n",
       "    <tr>\n",
       "      <td>34</td>\n",
       "      <td>PRIMARY.INSTAL.AMT</td>\n",
       "      <td>EMI Amount of the primary loan</td>\n",
       "      <td>NaN</td>\n",
       "    </tr>\n",
       "    <tr>\n",
       "      <td>35</td>\n",
       "      <td>SEC.INSTAL.AMT</td>\n",
       "      <td>EMI Amount of the secondary loan</td>\n",
       "      <td>NaN</td>\n",
       "    </tr>\n",
       "    <tr>\n",
       "      <td>36</td>\n",
       "      <td>NEW.ACCTS.IN.LAST.SIX.MONTHS</td>\n",
       "      <td>New loans taken by the customer in last 6 mont...</td>\n",
       "      <td>NaN</td>\n",
       "    </tr>\n",
       "    <tr>\n",
       "      <td>37</td>\n",
       "      <td>DELINQUENT.ACCTS.IN.LAST.SIX.MONTHS</td>\n",
       "      <td>Loans defaulted in the last 6 months</td>\n",
       "      <td>NaN</td>\n",
       "    </tr>\n",
       "    <tr>\n",
       "      <td>38</td>\n",
       "      <td>AVERAGE.ACCT.AGE</td>\n",
       "      <td>Average loan tenure</td>\n",
       "      <td>NaN</td>\n",
       "    </tr>\n",
       "    <tr>\n",
       "      <td>39</td>\n",
       "      <td>CREDIT.HISTORY.LENGTH</td>\n",
       "      <td>Time since first loan</td>\n",
       "      <td>NaN</td>\n",
       "    </tr>\n",
       "    <tr>\n",
       "      <td>40</td>\n",
       "      <td>NO.OF_INQUIRIES</td>\n",
       "      <td>Enquries done by the customer for loans</td>\n",
       "      <td>NaN</td>\n",
       "    </tr>\n",
       "  </tbody>\n",
       "</table>\n",
       "</div>"
      ],
      "text/plain": [
       "                          Variable Name  \\\n",
       "0                              UniqueID   \n",
       "1                          loan_default   \n",
       "2                      disbursed_amount   \n",
       "3                            asset_cost   \n",
       "4                                   ltv   \n",
       "5                             branch_id   \n",
       "6                           supplier_id   \n",
       "7                       manufacturer_id   \n",
       "8                       Current_pincode   \n",
       "9                         Date.of.Birth   \n",
       "10                      Employment.Type   \n",
       "11                        DisbursalDate   \n",
       "12                             State_ID   \n",
       "13                     Employee_code_ID   \n",
       "14                    MobileNo_Avl_Flag   \n",
       "15                          Aadhar_flag   \n",
       "16                             PAN_flag   \n",
       "17                         VoterID_flag   \n",
       "18                         Driving_flag   \n",
       "19                        Passport_flag   \n",
       "20                    PERFORM_CNS.SCORE   \n",
       "21        PERFORM_CNS.SCORE.DESCRIPTION   \n",
       "22                      PRI.NO.OF.ACCTS   \n",
       "23                     PRI.ACTIVE.ACCTS   \n",
       "24                    PRI.OVERDUE.ACCTS   \n",
       "25                  PRI.CURRENT.BALANCE   \n",
       "26                PRI.SANCTIONED.AMOUNT   \n",
       "27                 PRI.DISBURSED.AMOUNT   \n",
       "28                      SEC.NO.OF.ACCTS   \n",
       "29                     SEC.ACTIVE.ACCTS   \n",
       "30                    SEC.OVERDUE.ACCTS   \n",
       "31                  SEC.CURRENT.BALANCE   \n",
       "32                SEC.SANCTIONED.AMOUNT   \n",
       "33                 SEC.DISBURSED.AMOUNT   \n",
       "34                   PRIMARY.INSTAL.AMT   \n",
       "35                       SEC.INSTAL.AMT   \n",
       "36         NEW.ACCTS.IN.LAST.SIX.MONTHS   \n",
       "37  DELINQUENT.ACCTS.IN.LAST.SIX.MONTHS   \n",
       "38                     AVERAGE.ACCT.AGE   \n",
       "39                CREDIT.HISTORY.LENGTH   \n",
       "40                      NO.OF_INQUIRIES   \n",
       "\n",
       "                                          Description  \\\n",
       "0                            Identifier for customers   \n",
       "1        Payment default in the first EMI on due date   \n",
       "2                            Amount of Loan disbursed   \n",
       "3                                   Cost of the Asset   \n",
       "4                          Loan to Value of the asset   \n",
       "5                 Branch where the loan was disbursed   \n",
       "6         Vehicle Dealer where the loan was disbursed   \n",
       "7         Vehicle manufacturer(Hero, Honda, TVS etc.)   \n",
       "8                     Current pincode of the customer   \n",
       "9                       Date of birth of the customer   \n",
       "10  Employment Type of the customer (Salaried/Self...   \n",
       "11                               Date of disbursement   \n",
       "12                              State of disbursement   \n",
       "13  Employee of the organization who logged the di...   \n",
       "14  if Mobile no. was shared by the customer then ...   \n",
       "15  if aadhar was shared by the customer then flag...   \n",
       "16  if pan was shared by the customer then flagged...   \n",
       "17  if voter  was shared by the customer then flag...   \n",
       "18  if DL was shared by the customer then flagged ...   \n",
       "19  if passport was shared by the customer then fl...   \n",
       "20                                       Bureau Score   \n",
       "21                           Bureau score description   \n",
       "22  count of total loans taken by the customer at ...   \n",
       "23  count of active loans taken by the customer at...   \n",
       "24  count of default accounts at the time of disbu...   \n",
       "25  total Principal outstanding amount of the acti...   \n",
       "26  total amount that was sanctioned for all the l...   \n",
       "27  total amount that was disbursed for all the lo...   \n",
       "28  count of total loans taken by the customer at ...   \n",
       "29  count of active loans taken by the customer at...   \n",
       "30  count of default accounts at the time of disbu...   \n",
       "31  total Principal outstanding amount of the acti...   \n",
       "32  total amount that was sanctioned for all the l...   \n",
       "33  total amount that was disbursed for all the lo...   \n",
       "34                     EMI Amount of the primary loan   \n",
       "35                   EMI Amount of the secondary loan   \n",
       "36  New loans taken by the customer in last 6 mont...   \n",
       "37               Loans defaulted in the last 6 months   \n",
       "38                                Average loan tenure   \n",
       "39                              Time since first loan   \n",
       "40            Enquries done by the customer for loans   \n",
       "\n",
       "                                           Unnamed: 2  \n",
       "0                                                 NaN  \n",
       "1                                                 NaN  \n",
       "2                                                 NaN  \n",
       "3                                                 NaN  \n",
       "4                                                 NaN  \n",
       "5                                                 NaN  \n",
       "6                                                 NaN  \n",
       "7                                                 NaN  \n",
       "8                                                 NaN  \n",
       "9                                                 NaN  \n",
       "10                                                NaN  \n",
       "11                                                NaN  \n",
       "12                                                NaN  \n",
       "13                                                NaN  \n",
       "14                                                NaN  \n",
       "15                                                NaN  \n",
       "16                                                NaN  \n",
       "17                                                NaN  \n",
       "18                                                NaN  \n",
       "19                                                NaN  \n",
       "20                                                NaN  \n",
       "21                                                NaN  \n",
       "22  Primary accounts are those which the customer ...  \n",
       "23                                                NaN  \n",
       "24                                                NaN  \n",
       "25                                                NaN  \n",
       "26                                                NaN  \n",
       "27                                                NaN  \n",
       "28  Secondary accounts are those which the custome...  \n",
       "29                                                NaN  \n",
       "30                                                NaN  \n",
       "31                                                NaN  \n",
       "32                                                NaN  \n",
       "33                                                NaN  \n",
       "34                                                NaN  \n",
       "35                                                NaN  \n",
       "36                                                NaN  \n",
       "37                                                NaN  \n",
       "38                                                NaN  \n",
       "39                                                NaN  \n",
       "40                                                NaN  "
      ]
     },
     "execution_count": 1,
     "metadata": {},
     "output_type": "execute_result"
    }
   ],
   "source": [
    "from sklearn.model_selection import train_test_split\n",
    "from sklearn import preprocessing\n",
    "from sklearn.linear_model import LogisticRegression\n",
    "import numpy as np\n",
    "import pandas as pd\n",
    "import seaborn as sns\n",
    "import matplotlib.pyplot as plt\n",
    "d1=pd.read_excel('C:/Users/91977/Desktop/Credit loan/Data Dictionary.xlsx')\n",
    "d1"
   ]
  },
  {
   "cell_type": "code",
   "execution_count": 2,
   "metadata": {
    "scrolled": false
   },
   "outputs": [
    {
     "data": {
      "text/html": [
       "<div>\n",
       "<style scoped>\n",
       "    .dataframe tbody tr th:only-of-type {\n",
       "        vertical-align: middle;\n",
       "    }\n",
       "\n",
       "    .dataframe tbody tr th {\n",
       "        vertical-align: top;\n",
       "    }\n",
       "\n",
       "    .dataframe thead th {\n",
       "        text-align: right;\n",
       "    }\n",
       "</style>\n",
       "<table border=\"1\" class=\"dataframe\">\n",
       "  <thead>\n",
       "    <tr style=\"text-align: right;\">\n",
       "      <th></th>\n",
       "      <th>UniqueID</th>\n",
       "      <th>disbursed_amount</th>\n",
       "      <th>asset_cost</th>\n",
       "      <th>ltv</th>\n",
       "      <th>branch_id</th>\n",
       "      <th>supplier_id</th>\n",
       "      <th>manufacturer_id</th>\n",
       "      <th>Current_pincode_ID</th>\n",
       "      <th>Date.of.Birth</th>\n",
       "      <th>Employment.Type</th>\n",
       "      <th>...</th>\n",
       "      <th>SEC.SANCTIONED.AMOUNT</th>\n",
       "      <th>SEC.DISBURSED.AMOUNT</th>\n",
       "      <th>PRIMARY.INSTAL.AMT</th>\n",
       "      <th>SEC.INSTAL.AMT</th>\n",
       "      <th>NEW.ACCTS.IN.LAST.SIX.MONTHS</th>\n",
       "      <th>DELINQUENT.ACCTS.IN.LAST.SIX.MONTHS</th>\n",
       "      <th>AVERAGE.ACCT.AGE</th>\n",
       "      <th>CREDIT.HISTORY.LENGTH</th>\n",
       "      <th>NO.OF_INQUIRIES</th>\n",
       "      <th>loan_default</th>\n",
       "    </tr>\n",
       "  </thead>\n",
       "  <tbody>\n",
       "    <tr>\n",
       "      <td>233149</td>\n",
       "      <td>626432</td>\n",
       "      <td>63213</td>\n",
       "      <td>105405</td>\n",
       "      <td>60.72</td>\n",
       "      <td>34</td>\n",
       "      <td>20700</td>\n",
       "      <td>48</td>\n",
       "      <td>1050</td>\n",
       "      <td>01-08-88</td>\n",
       "      <td>Salaried</td>\n",
       "      <td>...</td>\n",
       "      <td>0</td>\n",
       "      <td>0</td>\n",
       "      <td>4084</td>\n",
       "      <td>0</td>\n",
       "      <td>0</td>\n",
       "      <td>0</td>\n",
       "      <td>1yrs 9mon</td>\n",
       "      <td>3yrs 3mon</td>\n",
       "      <td>0</td>\n",
       "      <td>0</td>\n",
       "    </tr>\n",
       "    <tr>\n",
       "      <td>233150</td>\n",
       "      <td>606141</td>\n",
       "      <td>73651</td>\n",
       "      <td>100600</td>\n",
       "      <td>74.95</td>\n",
       "      <td>34</td>\n",
       "      <td>23775</td>\n",
       "      <td>51</td>\n",
       "      <td>990</td>\n",
       "      <td>05-12-88</td>\n",
       "      <td>Self employed</td>\n",
       "      <td>...</td>\n",
       "      <td>0</td>\n",
       "      <td>0</td>\n",
       "      <td>1565</td>\n",
       "      <td>0</td>\n",
       "      <td>0</td>\n",
       "      <td>0</td>\n",
       "      <td>0yrs 6mon</td>\n",
       "      <td>0yrs 6mon</td>\n",
       "      <td>0</td>\n",
       "      <td>0</td>\n",
       "    </tr>\n",
       "    <tr>\n",
       "      <td>233151</td>\n",
       "      <td>613658</td>\n",
       "      <td>33484</td>\n",
       "      <td>71212</td>\n",
       "      <td>48.45</td>\n",
       "      <td>77</td>\n",
       "      <td>22186</td>\n",
       "      <td>86</td>\n",
       "      <td>2299</td>\n",
       "      <td>01-06-76</td>\n",
       "      <td>Salaried</td>\n",
       "      <td>...</td>\n",
       "      <td>0</td>\n",
       "      <td>0</td>\n",
       "      <td>0</td>\n",
       "      <td>0</td>\n",
       "      <td>0</td>\n",
       "      <td>0</td>\n",
       "      <td>0yrs 0mon</td>\n",
       "      <td>0yrs 0mon</td>\n",
       "      <td>0</td>\n",
       "      <td>0</td>\n",
       "    </tr>\n",
       "    <tr>\n",
       "      <td>233152</td>\n",
       "      <td>548084</td>\n",
       "      <td>34259</td>\n",
       "      <td>73286</td>\n",
       "      <td>49.10</td>\n",
       "      <td>77</td>\n",
       "      <td>22186</td>\n",
       "      <td>86</td>\n",
       "      <td>2299</td>\n",
       "      <td>26-03-94</td>\n",
       "      <td>Salaried</td>\n",
       "      <td>...</td>\n",
       "      <td>0</td>\n",
       "      <td>0</td>\n",
       "      <td>0</td>\n",
       "      <td>0</td>\n",
       "      <td>0</td>\n",
       "      <td>0</td>\n",
       "      <td>0yrs 0mon</td>\n",
       "      <td>0yrs 0mon</td>\n",
       "      <td>0</td>\n",
       "      <td>0</td>\n",
       "    </tr>\n",
       "    <tr>\n",
       "      <td>233153</td>\n",
       "      <td>630213</td>\n",
       "      <td>75751</td>\n",
       "      <td>116009</td>\n",
       "      <td>66.81</td>\n",
       "      <td>77</td>\n",
       "      <td>22186</td>\n",
       "      <td>86</td>\n",
       "      <td>2299</td>\n",
       "      <td>18-02-84</td>\n",
       "      <td>Salaried</td>\n",
       "      <td>...</td>\n",
       "      <td>0</td>\n",
       "      <td>0</td>\n",
       "      <td>0</td>\n",
       "      <td>0</td>\n",
       "      <td>0</td>\n",
       "      <td>0</td>\n",
       "      <td>0yrs 0mon</td>\n",
       "      <td>0yrs 0mon</td>\n",
       "      <td>0</td>\n",
       "      <td>0</td>\n",
       "    </tr>\n",
       "  </tbody>\n",
       "</table>\n",
       "<p>5 rows × 41 columns</p>\n",
       "</div>"
      ],
      "text/plain": [
       "        UniqueID  disbursed_amount  asset_cost    ltv  branch_id  supplier_id  \\\n",
       "233149    626432             63213      105405  60.72         34        20700   \n",
       "233150    606141             73651      100600  74.95         34        23775   \n",
       "233151    613658             33484       71212  48.45         77        22186   \n",
       "233152    548084             34259       73286  49.10         77        22186   \n",
       "233153    630213             75751      116009  66.81         77        22186   \n",
       "\n",
       "        manufacturer_id  Current_pincode_ID Date.of.Birth Employment.Type  \\\n",
       "233149               48                1050      01-08-88        Salaried   \n",
       "233150               51                 990      05-12-88   Self employed   \n",
       "233151               86                2299      01-06-76        Salaried   \n",
       "233152               86                2299      26-03-94        Salaried   \n",
       "233153               86                2299      18-02-84        Salaried   \n",
       "\n",
       "        ... SEC.SANCTIONED.AMOUNT  SEC.DISBURSED.AMOUNT  PRIMARY.INSTAL.AMT  \\\n",
       "233149  ...                     0                     0                4084   \n",
       "233150  ...                     0                     0                1565   \n",
       "233151  ...                     0                     0                   0   \n",
       "233152  ...                     0                     0                   0   \n",
       "233153  ...                     0                     0                   0   \n",
       "\n",
       "        SEC.INSTAL.AMT  NEW.ACCTS.IN.LAST.SIX.MONTHS  \\\n",
       "233149               0                             0   \n",
       "233150               0                             0   \n",
       "233151               0                             0   \n",
       "233152               0                             0   \n",
       "233153               0                             0   \n",
       "\n",
       "        DELINQUENT.ACCTS.IN.LAST.SIX.MONTHS  AVERAGE.ACCT.AGE  \\\n",
       "233149                                    0         1yrs 9mon   \n",
       "233150                                    0         0yrs 6mon   \n",
       "233151                                    0         0yrs 0mon   \n",
       "233152                                    0         0yrs 0mon   \n",
       "233153                                    0         0yrs 0mon   \n",
       "\n",
       "        CREDIT.HISTORY.LENGTH  NO.OF_INQUIRIES  loan_default  \n",
       "233149              3yrs 3mon                0             0  \n",
       "233150              0yrs 6mon                0             0  \n",
       "233151              0yrs 0mon                0             0  \n",
       "233152              0yrs 0mon                0             0  \n",
       "233153              0yrs 0mon                0             0  \n",
       "\n",
       "[5 rows x 41 columns]"
      ]
     },
     "execution_count": 2,
     "metadata": {},
     "output_type": "execute_result"
    }
   ],
   "source": [
    "train_data=pd.read_csv('C:/Users/91977/Desktop/Credit loan/Loan Default Data.csv')\n",
    "train_data.tail(5)"
   ]
  },
  {
   "cell_type": "markdown",
   "metadata": {},
   "source": [
    "# lets explore our data's rows and columns(R,C)"
   ]
  },
  {
   "cell_type": "code",
   "execution_count": 3,
   "metadata": {},
   "outputs": [
    {
     "data": {
      "text/plain": [
       "(233154, 41)"
      ]
     },
     "execution_count": 3,
     "metadata": {},
     "output_type": "execute_result"
    }
   ],
   "source": [
    "train_data.shape"
   ]
  },
  {
   "cell_type": "markdown",
   "metadata": {},
   "source": [
    "# LETS VISUALIZE THE DATA"
   ]
  },
  {
   "cell_type": "code",
   "execution_count": 4,
   "metadata": {},
   "outputs": [
    {
     "data": {
      "text/plain": [
       "<matplotlib.axes._subplots.AxesSubplot at 0x57be770>"
      ]
     },
     "execution_count": 4,
     "metadata": {},
     "output_type": "execute_result"
    },
    {
     "data": {
      "image/png": "[encoded data removed]",
      "text/plain": [
       "<Figure size 576x360 with 1 Axes>"
      ]
     },
     "metadata": {
      "needs_background": "light"
     },
     "output_type": "display_data"
    }
   ],
   "source": [
    "plt.figure(figsize=(8,5))\n",
    "plt.title('counplot')\n",
    "sns.set(style='darkgrid')\n",
    "sns.countplot(x='loan_default',data=train_data)"
   ]
  },
  {
   "cell_type": "code",
   "execution_count": 5,
   "metadata": {},
   "outputs": [
    {
     "data": {
      "text/plain": [
       "Text(0.5, 1.0, 'SCATTER PLOT')"
      ]
     },
     "execution_count": 5,
     "metadata": {},
     "output_type": "execute_result"
    },
    {
     "data": {
      "image/png": "[encoded data removed]",
      "text/plain": [
       "<Figure size 432x360 with 1 Axes>"
      ]
     },
     "metadata": {},
     "output_type": "display_data"
    }
   ],
   "source": [
    "plt.figure(figsize=(6,5))\n",
    "sns.scatterplot(x='ltv', y='disbursed_amount',data=train_data)\n",
    "plt.title('SCATTER PLOT')"
   ]
  },
  {
   "cell_type": "code",
   "execution_count": 6,
   "metadata": {},
   "outputs": [
    {
     "data": {
      "text/plain": [
       "<matplotlib.axes._subplots.AxesSubplot at 0x19a1310>"
      ]
     },
     "execution_count": 6,
     "metadata": {},
     "output_type": "execute_result"
    },
    {
     "data": {
      "image/png": "[encoded data removed]",
      "text/plain": [
       "<Figure size 504x360 with 1 Axes>"
      ]
     },
     "metadata": {},
     "output_type": "display_data"
    }
   ],
   "source": [
    "plt.figure(figsize=(7,5))\n",
    "sns.barplot(x='Employment.Type', y='disbursed_amount',data=train_data)"
   ]
  },
  {
   "cell_type": "code",
   "execution_count": 7,
   "metadata": {},
   "outputs": [
    {
     "data": {
      "text/plain": [
       "(array([2.32546e+05, 6.01000e+02, 1.00000e+00, 3.00000e+00, 0.00000e+00,\n",
       "        1.00000e+00, 0.00000e+00, 0.00000e+00, 0.00000e+00, 2.00000e+00]),\n",
       " array([ 13320. , 111045.2, 208770.4, 306495.6, 404220.8, 501946. ,\n",
       "        599671.2, 697396.4, 795121.6, 892846.8, 990572. ]),\n",
       " <a list of 10 Patch objects>)"
      ]
     },
     "execution_count": 7,
     "metadata": {},
     "output_type": "execute_result"
    },
    {
     "data": {
      "image/png": "[encoded data removed]",
      "text/plain": [
       "<Figure size 432x288 with 1 Axes>"
      ]
     },
     "metadata": {},
     "output_type": "display_data"
    }
   ],
   "source": [
    "plt.hist(train_data['disbursed_amount'])"
   ]
  },
  {
   "cell_type": "markdown",
   "metadata": {},
   "source": [
    "# here is the correlation of inputs with the ouput"
   ]
  },
  {
   "cell_type": "code",
   "execution_count": 8,
   "metadata": {},
   "outputs": [
    {
     "data": {
      "text/plain": [
       "<matplotlib.axes._subplots.AxesSubplot at 0x19f7c90>"
      ]
     },
     "execution_count": 8,
     "metadata": {},
     "output_type": "execute_result"
    },
    {
     "data": {
      "image/png": "[encoded data removed]",
      "text/plain": [
       "<Figure size 432x288 with 2 Axes>"
      ]
     },
     "metadata": {},
     "output_type": "display_data"
    }
   ],
   "source": [
    "sns.heatmap(train_data.corr(), cmap='coolwarm')"
   ]
  },
  {
   "cell_type": "code",
   "execution_count": 9,
   "metadata": {},
   "outputs": [
    {
     "data": {
      "text/html": [
       "<div>\n",
       "<style scoped>\n",
       "    .dataframe tbody tr th:only-of-type {\n",
       "        vertical-align: middle;\n",
       "    }\n",
       "\n",
       "    .dataframe tbody tr th {\n",
       "        vertical-align: top;\n",
       "    }\n",
       "\n",
       "    .dataframe thead th {\n",
       "        text-align: right;\n",
       "    }\n",
       "</style>\n",
       "<table border=\"1\" class=\"dataframe\">\n",
       "  <thead>\n",
       "    <tr style=\"text-align: right;\">\n",
       "      <th></th>\n",
       "      <th>UniqueID</th>\n",
       "      <th>disbursed_amount</th>\n",
       "      <th>asset_cost</th>\n",
       "      <th>ltv</th>\n",
       "      <th>branch_id</th>\n",
       "      <th>supplier_id</th>\n",
       "      <th>manufacturer_id</th>\n",
       "      <th>Current_pincode_ID</th>\n",
       "      <th>State_ID</th>\n",
       "      <th>Employee_code_ID</th>\n",
       "      <th>...</th>\n",
       "      <th>SEC.OVERDUE.ACCTS</th>\n",
       "      <th>SEC.CURRENT.BALANCE</th>\n",
       "      <th>SEC.SANCTIONED.AMOUNT</th>\n",
       "      <th>SEC.DISBURSED.AMOUNT</th>\n",
       "      <th>PRIMARY.INSTAL.AMT</th>\n",
       "      <th>SEC.INSTAL.AMT</th>\n",
       "      <th>NEW.ACCTS.IN.LAST.SIX.MONTHS</th>\n",
       "      <th>DELINQUENT.ACCTS.IN.LAST.SIX.MONTHS</th>\n",
       "      <th>NO.OF_INQUIRIES</th>\n",
       "      <th>loan_default</th>\n",
       "    </tr>\n",
       "  </thead>\n",
       "  <tbody>\n",
       "    <tr>\n",
       "      <td>UniqueID</td>\n",
       "      <td>1.000000</td>\n",
       "      <td>0.145575</td>\n",
       "      <td>0.144671</td>\n",
       "      <td>-0.030537</td>\n",
       "      <td>-0.004509</td>\n",
       "      <td>0.025747</td>\n",
       "      <td>-0.021514</td>\n",
       "      <td>0.030500</td>\n",
       "      <td>-0.057734</td>\n",
       "      <td>0.075983</td>\n",
       "      <td>...</td>\n",
       "      <td>-0.027486</td>\n",
       "      <td>-0.013428</td>\n",
       "      <td>-0.017114</td>\n",
       "      <td>-0.016857</td>\n",
       "      <td>-0.009321</td>\n",
       "      <td>-0.013518</td>\n",
       "      <td>-0.003842</td>\n",
       "      <td>-0.009186</td>\n",
       "      <td>0.016537</td>\n",
       "      <td>0.033848</td>\n",
       "    </tr>\n",
       "    <tr>\n",
       "      <td>disbursed_amount</td>\n",
       "      <td>0.145575</td>\n",
       "      <td>1.000000</td>\n",
       "      <td>0.752668</td>\n",
       "      <td>0.376747</td>\n",
       "      <td>0.018328</td>\n",
       "      <td>0.078596</td>\n",
       "      <td>0.095203</td>\n",
       "      <td>0.068540</td>\n",
       "      <td>-0.023956</td>\n",
       "      <td>0.010120</td>\n",
       "      <td>...</td>\n",
       "      <td>-0.007305</td>\n",
       "      <td>-0.004227</td>\n",
       "      <td>-0.005271</td>\n",
       "      <td>-0.005119</td>\n",
       "      <td>0.002350</td>\n",
       "      <td>-0.005525</td>\n",
       "      <td>0.035880</td>\n",
       "      <td>0.020198</td>\n",
       "      <td>0.038513</td>\n",
       "      <td>0.077675</td>\n",
       "    </tr>\n",
       "    <tr>\n",
       "      <td>asset_cost</td>\n",
       "      <td>0.144671</td>\n",
       "      <td>0.752668</td>\n",
       "      <td>1.000000</td>\n",
       "      <td>-0.301188</td>\n",
       "      <td>0.018586</td>\n",
       "      <td>0.150002</td>\n",
       "      <td>-0.005256</td>\n",
       "      <td>0.275878</td>\n",
       "      <td>-0.026348</td>\n",
       "      <td>0.008711</td>\n",
       "      <td>...</td>\n",
       "      <td>-0.013455</td>\n",
       "      <td>-0.008697</td>\n",
       "      <td>-0.010776</td>\n",
       "      <td>-0.010594</td>\n",
       "      <td>-0.004356</td>\n",
       "      <td>-0.005738</td>\n",
       "      <td>-0.021968</td>\n",
       "      <td>-0.007932</td>\n",
       "      <td>-0.017301</td>\n",
       "      <td>0.014261</td>\n",
       "    </tr>\n",
       "    <tr>\n",
       "      <td>ltv</td>\n",
       "      <td>-0.030537</td>\n",
       "      <td>0.376747</td>\n",
       "      <td>-0.301188</td>\n",
       "      <td>1.000000</td>\n",
       "      <td>0.006382</td>\n",
       "      <td>-0.103732</td>\n",
       "      <td>0.121003</td>\n",
       "      <td>-0.300112</td>\n",
       "      <td>0.004882</td>\n",
       "      <td>0.004940</td>\n",
       "      <td>...</td>\n",
       "      <td>0.010256</td>\n",
       "      <td>0.007195</td>\n",
       "      <td>0.008800</td>\n",
       "      <td>0.008733</td>\n",
       "      <td>0.007358</td>\n",
       "      <td>0.000481</td>\n",
       "      <td>0.083824</td>\n",
       "      <td>0.041921</td>\n",
       "      <td>0.085725</td>\n",
       "      <td>0.098208</td>\n",
       "    </tr>\n",
       "    <tr>\n",
       "      <td>branch_id</td>\n",
       "      <td>-0.004509</td>\n",
       "      <td>0.018328</td>\n",
       "      <td>0.018586</td>\n",
       "      <td>0.006382</td>\n",
       "      <td>1.000000</td>\n",
       "      <td>0.225744</td>\n",
       "      <td>-0.049957</td>\n",
       "      <td>0.048192</td>\n",
       "      <td>0.187782</td>\n",
       "      <td>0.088764</td>\n",
       "      <td>...</td>\n",
       "      <td>-0.007104</td>\n",
       "      <td>0.001418</td>\n",
       "      <td>0.002404</td>\n",
       "      <td>0.002457</td>\n",
       "      <td>0.004955</td>\n",
       "      <td>0.004265</td>\n",
       "      <td>-0.008354</td>\n",
       "      <td>-0.001730</td>\n",
       "      <td>-0.001813</td>\n",
       "      <td>0.030193</td>\n",
       "    </tr>\n",
       "    <tr>\n",
       "      <td>supplier_id</td>\n",
       "      <td>0.025747</td>\n",
       "      <td>0.078596</td>\n",
       "      <td>0.150002</td>\n",
       "      <td>-0.103732</td>\n",
       "      <td>0.225744</td>\n",
       "      <td>1.000000</td>\n",
       "      <td>-0.063916</td>\n",
       "      <td>0.187401</td>\n",
       "      <td>0.105502</td>\n",
       "      <td>0.095792</td>\n",
       "      <td>...</td>\n",
       "      <td>-0.015665</td>\n",
       "      <td>-0.008729</td>\n",
       "      <td>-0.010175</td>\n",
       "      <td>-0.010031</td>\n",
       "      <td>-0.011953</td>\n",
       "      <td>-0.005826</td>\n",
       "      <td>-0.053264</td>\n",
       "      <td>-0.024622</td>\n",
       "      <td>-0.030988</td>\n",
       "      <td>0.027357</td>\n",
       "    </tr>\n",
       "    <tr>\n",
       "      <td>manufacturer_id</td>\n",
       "      <td>-0.021514</td>\n",
       "      <td>0.095203</td>\n",
       "      <td>-0.005256</td>\n",
       "      <td>0.121003</td>\n",
       "      <td>-0.049957</td>\n",
       "      <td>-0.063916</td>\n",
       "      <td>1.000000</td>\n",
       "      <td>-0.104349</td>\n",
       "      <td>0.026412</td>\n",
       "      <td>-0.045009</td>\n",
       "      <td>...</td>\n",
       "      <td>0.008152</td>\n",
       "      <td>0.003106</td>\n",
       "      <td>0.003206</td>\n",
       "      <td>0.003301</td>\n",
       "      <td>0.014116</td>\n",
       "      <td>0.003020</td>\n",
       "      <td>0.050079</td>\n",
       "      <td>0.019438</td>\n",
       "      <td>0.010012</td>\n",
       "      <td>-0.025039</td>\n",
       "    </tr>\n",
       "    <tr>\n",
       "      <td>Current_pincode_ID</td>\n",
       "      <td>0.030500</td>\n",
       "      <td>0.068540</td>\n",
       "      <td>0.275878</td>\n",
       "      <td>-0.300112</td>\n",
       "      <td>0.048192</td>\n",
       "      <td>0.187401</td>\n",
       "      <td>-0.104349</td>\n",
       "      <td>1.000000</td>\n",
       "      <td>0.047903</td>\n",
       "      <td>-0.042609</td>\n",
       "      <td>...</td>\n",
       "      <td>-0.036228</td>\n",
       "      <td>-0.021048</td>\n",
       "      <td>-0.026059</td>\n",
       "      <td>-0.025630</td>\n",
       "      <td>0.002275</td>\n",
       "      <td>-0.006305</td>\n",
       "      <td>-0.100080</td>\n",
       "      <td>-0.057419</td>\n",
       "      <td>-0.058821</td>\n",
       "      <td>0.028419</td>\n",
       "    </tr>\n",
       "    <tr>\n",
       "      <td>State_ID</td>\n",
       "      <td>-0.057734</td>\n",
       "      <td>-0.023956</td>\n",
       "      <td>-0.026348</td>\n",
       "      <td>0.004882</td>\n",
       "      <td>0.187782</td>\n",
       "      <td>0.105502</td>\n",
       "      <td>0.026412</td>\n",
       "      <td>0.047903</td>\n",
       "      <td>1.000000</td>\n",
       "      <td>0.117309</td>\n",
       "      <td>...</td>\n",
       "      <td>0.015679</td>\n",
       "      <td>0.013231</td>\n",
       "      <td>0.017842</td>\n",
       "      <td>0.017651</td>\n",
       "      <td>0.015843</td>\n",
       "      <td>0.009850</td>\n",
       "      <td>-0.014942</td>\n",
       "      <td>-0.000655</td>\n",
       "      <td>-0.016129</td>\n",
       "      <td>0.048075</td>\n",
       "    </tr>\n",
       "    <tr>\n",
       "      <td>Employee_code_ID</td>\n",
       "      <td>0.075983</td>\n",
       "      <td>0.010120</td>\n",
       "      <td>0.008711</td>\n",
       "      <td>0.004940</td>\n",
       "      <td>0.088764</td>\n",
       "      <td>0.095792</td>\n",
       "      <td>-0.045009</td>\n",
       "      <td>-0.042609</td>\n",
       "      <td>0.117309</td>\n",
       "      <td>1.000000</td>\n",
       "      <td>...</td>\n",
       "      <td>-0.006537</td>\n",
       "      <td>-0.003543</td>\n",
       "      <td>-0.002259</td>\n",
       "      <td>-0.002224</td>\n",
       "      <td>0.013470</td>\n",
       "      <td>0.001894</td>\n",
       "      <td>0.005473</td>\n",
       "      <td>0.003624</td>\n",
       "      <td>-0.002108</td>\n",
       "      <td>0.020657</td>\n",
       "    </tr>\n",
       "    <tr>\n",
       "      <td>MobileNo_Avl_Flag</td>\n",
       "      <td>NaN</td>\n",
       "      <td>NaN</td>\n",
       "      <td>NaN</td>\n",
       "      <td>NaN</td>\n",
       "      <td>NaN</td>\n",
       "      <td>NaN</td>\n",
       "      <td>NaN</td>\n",
       "      <td>NaN</td>\n",
       "      <td>NaN</td>\n",
       "      <td>NaN</td>\n",
       "      <td>...</td>\n",
       "      <td>NaN</td>\n",
       "      <td>NaN</td>\n",
       "      <td>NaN</td>\n",
       "      <td>NaN</td>\n",
       "      <td>NaN</td>\n",
       "      <td>NaN</td>\n",
       "      <td>NaN</td>\n",
       "      <td>NaN</td>\n",
       "      <td>NaN</td>\n",
       "      <td>NaN</td>\n",
       "    </tr>\n",
       "    <tr>\n",
       "      <td>Aadhar_flag</td>\n",
       "      <td>-0.001372</td>\n",
       "      <td>-0.015589</td>\n",
       "      <td>-0.093716</td>\n",
       "      <td>0.106953</td>\n",
       "      <td>-0.036384</td>\n",
       "      <td>-0.081161</td>\n",
       "      <td>0.041251</td>\n",
       "      <td>-0.309285</td>\n",
       "      <td>-0.169882</td>\n",
       "      <td>0.048759</td>\n",
       "      <td>...</td>\n",
       "      <td>0.007979</td>\n",
       "      <td>0.006420</td>\n",
       "      <td>0.007591</td>\n",
       "      <td>0.007540</td>\n",
       "      <td>0.014832</td>\n",
       "      <td>0.006273</td>\n",
       "      <td>0.059269</td>\n",
       "      <td>0.023823</td>\n",
       "      <td>0.027317</td>\n",
       "      <td>-0.041593</td>\n",
       "    </tr>\n",
       "    <tr>\n",
       "      <td>PAN_flag</td>\n",
       "      <td>-0.014291</td>\n",
       "      <td>0.014490</td>\n",
       "      <td>0.048075</td>\n",
       "      <td>-0.037786</td>\n",
       "      <td>0.030206</td>\n",
       "      <td>0.036804</td>\n",
       "      <td>-0.029272</td>\n",
       "      <td>0.041118</td>\n",
       "      <td>0.113939</td>\n",
       "      <td>-0.027579</td>\n",
       "      <td>...</td>\n",
       "      <td>0.020503</td>\n",
       "      <td>0.011181</td>\n",
       "      <td>0.015279</td>\n",
       "      <td>0.014907</td>\n",
       "      <td>-0.010851</td>\n",
       "      <td>-0.000219</td>\n",
       "      <td>0.007046</td>\n",
       "      <td>-0.002562</td>\n",
       "      <td>0.016657</td>\n",
       "      <td>0.002046</td>\n",
       "    </tr>\n",
       "    <tr>\n",
       "      <td>VoterID_flag</td>\n",
       "      <td>0.008201</td>\n",
       "      <td>0.011665</td>\n",
       "      <td>0.083899</td>\n",
       "      <td>-0.098393</td>\n",
       "      <td>0.021387</td>\n",
       "      <td>0.079355</td>\n",
       "      <td>-0.046489</td>\n",
       "      <td>0.281934</td>\n",
       "      <td>0.151839</td>\n",
       "      <td>-0.047342</td>\n",
       "      <td>...</td>\n",
       "      <td>-0.004257</td>\n",
       "      <td>-0.005591</td>\n",
       "      <td>-0.006619</td>\n",
       "      <td>-0.006580</td>\n",
       "      <td>-0.018820</td>\n",
       "      <td>-0.006019</td>\n",
       "      <td>-0.059591</td>\n",
       "      <td>-0.027453</td>\n",
       "      <td>-0.018285</td>\n",
       "      <td>0.043747</td>\n",
       "    </tr>\n",
       "    <tr>\n",
       "      <td>Driving_flag</td>\n",
       "      <td>-0.026072</td>\n",
       "      <td>0.001381</td>\n",
       "      <td>0.020484</td>\n",
       "      <td>-0.024060</td>\n",
       "      <td>-0.015503</td>\n",
       "      <td>-0.015682</td>\n",
       "      <td>0.004777</td>\n",
       "      <td>0.039667</td>\n",
       "      <td>0.027886</td>\n",
       "      <td>-0.017617</td>\n",
       "      <td>...</td>\n",
       "      <td>0.002497</td>\n",
       "      <td>0.001667</td>\n",
       "      <td>0.002600</td>\n",
       "      <td>0.002583</td>\n",
       "      <td>0.006219</td>\n",
       "      <td>-0.000843</td>\n",
       "      <td>-0.000929</td>\n",
       "      <td>0.011311</td>\n",
       "      <td>-0.021179</td>\n",
       "      <td>-0.005821</td>\n",
       "    </tr>\n",
       "    <tr>\n",
       "      <td>Passport_flag</td>\n",
       "      <td>-0.001382</td>\n",
       "      <td>0.008291</td>\n",
       "      <td>0.005542</td>\n",
       "      <td>0.004467</td>\n",
       "      <td>-0.008537</td>\n",
       "      <td>-0.008773</td>\n",
       "      <td>0.016338</td>\n",
       "      <td>-0.008913</td>\n",
       "      <td>-0.000915</td>\n",
       "      <td>-0.007205</td>\n",
       "      <td>...</td>\n",
       "      <td>-0.000497</td>\n",
       "      <td>0.003205</td>\n",
       "      <td>0.003539</td>\n",
       "      <td>0.003506</td>\n",
       "      <td>0.012914</td>\n",
       "      <td>0.000524</td>\n",
       "      <td>0.008052</td>\n",
       "      <td>0.006695</td>\n",
       "      <td>-0.001908</td>\n",
       "      <td>-0.007602</td>\n",
       "    </tr>\n",
       "    <tr>\n",
       "      <td>PERFORM_CNS.SCORE</td>\n",
       "      <td>-0.014016</td>\n",
       "      <td>0.011409</td>\n",
       "      <td>-0.047398</td>\n",
       "      <td>0.084993</td>\n",
       "      <td>-0.018049</td>\n",
       "      <td>-0.077029</td>\n",
       "      <td>0.073012</td>\n",
       "      <td>-0.161664</td>\n",
       "      <td>-0.042323</td>\n",
       "      <td>-0.005767</td>\n",
       "      <td>...</td>\n",
       "      <td>0.035100</td>\n",
       "      <td>0.020128</td>\n",
       "      <td>0.024365</td>\n",
       "      <td>0.023953</td>\n",
       "      <td>0.071309</td>\n",
       "      <td>0.015655</td>\n",
       "      <td>0.346025</td>\n",
       "      <td>0.164745</td>\n",
       "      <td>0.152838</td>\n",
       "      <td>-0.057929</td>\n",
       "    </tr>\n",
       "    <tr>\n",
       "      <td>PRI.NO.OF.ACCTS</td>\n",
       "      <td>-0.013584</td>\n",
       "      <td>0.034461</td>\n",
       "      <td>-0.026798</td>\n",
       "      <td>0.086571</td>\n",
       "      <td>-0.010384</td>\n",
       "      <td>-0.070536</td>\n",
       "      <td>0.068371</td>\n",
       "      <td>-0.084687</td>\n",
       "      <td>-0.008704</td>\n",
       "      <td>0.009197</td>\n",
       "      <td>...</td>\n",
       "      <td>0.030364</td>\n",
       "      <td>0.020945</td>\n",
       "      <td>0.024877</td>\n",
       "      <td>0.024551</td>\n",
       "      <td>0.269546</td>\n",
       "      <td>0.023421</td>\n",
       "      <td>0.537622</td>\n",
       "      <td>0.314148</td>\n",
       "      <td>0.180744</td>\n",
       "      <td>-0.035456</td>\n",
       "    </tr>\n",
       "    <tr>\n",
       "      <td>PRI.ACTIVE.ACCTS</td>\n",
       "      <td>-0.020862</td>\n",
       "      <td>0.039542</td>\n",
       "      <td>-0.021692</td>\n",
       "      <td>0.087929</td>\n",
       "      <td>-0.006403</td>\n",
       "      <td>-0.066930</td>\n",
       "      <td>0.065589</td>\n",
       "      <td>-0.117882</td>\n",
       "      <td>-0.021061</td>\n",
       "      <td>0.006111</td>\n",
       "      <td>...</td>\n",
       "      <td>0.037422</td>\n",
       "      <td>0.022018</td>\n",
       "      <td>0.026805</td>\n",
       "      <td>0.026325</td>\n",
       "      <td>0.192397</td>\n",
       "      <td>0.021210</td>\n",
       "      <td>0.702943</td>\n",
       "      <td>0.382584</td>\n",
       "      <td>0.195484</td>\n",
       "      <td>-0.041451</td>\n",
       "    </tr>\n",
       "    <tr>\n",
       "      <td>PRI.OVERDUE.ACCTS</td>\n",
       "      <td>-0.007915</td>\n",
       "      <td>0.019422</td>\n",
       "      <td>-0.014782</td>\n",
       "      <td>0.051770</td>\n",
       "      <td>-0.005546</td>\n",
       "      <td>-0.042692</td>\n",
       "      <td>0.025992</td>\n",
       "      <td>-0.062177</td>\n",
       "      <td>-0.012381</td>\n",
       "      <td>-0.000116</td>\n",
       "      <td>...</td>\n",
       "      <td>0.041624</td>\n",
       "      <td>0.012623</td>\n",
       "      <td>0.017194</td>\n",
       "      <td>0.016855</td>\n",
       "      <td>0.103095</td>\n",
       "      <td>0.009324</td>\n",
       "      <td>0.109896</td>\n",
       "      <td>0.471564</td>\n",
       "      <td>0.063780</td>\n",
       "      <td>0.040872</td>\n",
       "    </tr>\n",
       "    <tr>\n",
       "      <td>PRI.CURRENT.BALANCE</td>\n",
       "      <td>-0.007259</td>\n",
       "      <td>0.015713</td>\n",
       "      <td>-0.004356</td>\n",
       "      <td>0.026714</td>\n",
       "      <td>-0.004133</td>\n",
       "      <td>-0.022582</td>\n",
       "      <td>0.031722</td>\n",
       "      <td>-0.055948</td>\n",
       "      <td>-0.006359</td>\n",
       "      <td>0.003528</td>\n",
       "      <td>...</td>\n",
       "      <td>0.015225</td>\n",
       "      <td>0.019378</td>\n",
       "      <td>0.021179</td>\n",
       "      <td>0.021152</td>\n",
       "      <td>0.152499</td>\n",
       "      <td>0.006799</td>\n",
       "      <td>0.198566</td>\n",
       "      <td>0.244243</td>\n",
       "      <td>0.023861</td>\n",
       "      <td>-0.027386</td>\n",
       "    </tr>\n",
       "    <tr>\n",
       "      <td>PRI.SANCTIONED.AMOUNT</td>\n",
       "      <td>-0.002910</td>\n",
       "      <td>0.006294</td>\n",
       "      <td>-0.001180</td>\n",
       "      <td>0.009955</td>\n",
       "      <td>-0.003370</td>\n",
       "      <td>-0.012959</td>\n",
       "      <td>0.017242</td>\n",
       "      <td>-0.025843</td>\n",
       "      <td>-0.004304</td>\n",
       "      <td>-0.001105</td>\n",
       "      <td>...</td>\n",
       "      <td>0.007967</td>\n",
       "      <td>0.010750</td>\n",
       "      <td>0.011859</td>\n",
       "      <td>0.011843</td>\n",
       "      <td>0.072591</td>\n",
       "      <td>0.003883</td>\n",
       "      <td>0.095074</td>\n",
       "      <td>0.122028</td>\n",
       "      <td>0.010743</td>\n",
       "      <td>-0.011304</td>\n",
       "    </tr>\n",
       "    <tr>\n",
       "      <td>PRI.DISBURSED.AMOUNT</td>\n",
       "      <td>-0.002563</td>\n",
       "      <td>0.006412</td>\n",
       "      <td>-0.001221</td>\n",
       "      <td>0.010177</td>\n",
       "      <td>-0.003412</td>\n",
       "      <td>-0.012950</td>\n",
       "      <td>0.017080</td>\n",
       "      <td>-0.025697</td>\n",
       "      <td>-0.004129</td>\n",
       "      <td>-0.001088</td>\n",
       "      <td>...</td>\n",
       "      <td>0.007872</td>\n",
       "      <td>0.010682</td>\n",
       "      <td>0.011771</td>\n",
       "      <td>0.011757</td>\n",
       "      <td>0.073058</td>\n",
       "      <td>0.003806</td>\n",
       "      <td>0.094681</td>\n",
       "      <td>0.122650</td>\n",
       "      <td>0.010935</td>\n",
       "      <td>-0.011155</td>\n",
       "    </tr>\n",
       "    <tr>\n",
       "      <td>SEC.NO.OF.ACCTS</td>\n",
       "      <td>-0.044180</td>\n",
       "      <td>-0.014916</td>\n",
       "      <td>-0.022600</td>\n",
       "      <td>0.013019</td>\n",
       "      <td>-0.003194</td>\n",
       "      <td>-0.025809</td>\n",
       "      <td>0.008392</td>\n",
       "      <td>-0.051766</td>\n",
       "      <td>0.031245</td>\n",
       "      <td>-0.001385</td>\n",
       "      <td>...</td>\n",
       "      <td>0.510394</td>\n",
       "      <td>0.281865</td>\n",
       "      <td>0.359193</td>\n",
       "      <td>0.353330</td>\n",
       "      <td>0.009986</td>\n",
       "      <td>0.235277</td>\n",
       "      <td>0.119791</td>\n",
       "      <td>0.100321</td>\n",
       "      <td>0.005035</td>\n",
       "      <td>-0.008385</td>\n",
       "    </tr>\n",
       "    <tr>\n",
       "      <td>SEC.ACTIVE.ACCTS</td>\n",
       "      <td>-0.039888</td>\n",
       "      <td>-0.014275</td>\n",
       "      <td>-0.020359</td>\n",
       "      <td>0.010565</td>\n",
       "      <td>-0.001957</td>\n",
       "      <td>-0.019885</td>\n",
       "      <td>0.005898</td>\n",
       "      <td>-0.049852</td>\n",
       "      <td>0.032142</td>\n",
       "      <td>-0.003331</td>\n",
       "      <td>...</td>\n",
       "      <td>0.526209</td>\n",
       "      <td>0.361325</td>\n",
       "      <td>0.452693</td>\n",
       "      <td>0.445950</td>\n",
       "      <td>0.007063</td>\n",
       "      <td>0.148895</td>\n",
       "      <td>0.134577</td>\n",
       "      <td>0.109194</td>\n",
       "      <td>0.004830</td>\n",
       "      <td>-0.005993</td>\n",
       "    </tr>\n",
       "    <tr>\n",
       "      <td>SEC.OVERDUE.ACCTS</td>\n",
       "      <td>-0.027486</td>\n",
       "      <td>-0.007305</td>\n",
       "      <td>-0.013455</td>\n",
       "      <td>0.010256</td>\n",
       "      <td>-0.007104</td>\n",
       "      <td>-0.015665</td>\n",
       "      <td>0.008152</td>\n",
       "      <td>-0.036228</td>\n",
       "      <td>0.015679</td>\n",
       "      <td>-0.006537</td>\n",
       "      <td>...</td>\n",
       "      <td>1.000000</td>\n",
       "      <td>0.187383</td>\n",
       "      <td>0.234422</td>\n",
       "      <td>0.230982</td>\n",
       "      <td>0.002066</td>\n",
       "      <td>0.077731</td>\n",
       "      <td>0.057046</td>\n",
       "      <td>0.108810</td>\n",
       "      <td>0.004975</td>\n",
       "      <td>-0.001371</td>\n",
       "    </tr>\n",
       "    <tr>\n",
       "      <td>SEC.CURRENT.BALANCE</td>\n",
       "      <td>-0.013428</td>\n",
       "      <td>-0.004227</td>\n",
       "      <td>-0.008697</td>\n",
       "      <td>0.007195</td>\n",
       "      <td>0.001418</td>\n",
       "      <td>-0.008729</td>\n",
       "      <td>0.003106</td>\n",
       "      <td>-0.021048</td>\n",
       "      <td>0.013231</td>\n",
       "      <td>-0.003543</td>\n",
       "      <td>...</td>\n",
       "      <td>0.187383</td>\n",
       "      <td>1.000000</td>\n",
       "      <td>0.929196</td>\n",
       "      <td>0.929995</td>\n",
       "      <td>0.010393</td>\n",
       "      <td>0.096351</td>\n",
       "      <td>0.046465</td>\n",
       "      <td>0.044987</td>\n",
       "      <td>0.002715</td>\n",
       "      <td>-0.005531</td>\n",
       "    </tr>\n",
       "    <tr>\n",
       "      <td>SEC.SANCTIONED.AMOUNT</td>\n",
       "      <td>-0.017114</td>\n",
       "      <td>-0.005271</td>\n",
       "      <td>-0.010776</td>\n",
       "      <td>0.008800</td>\n",
       "      <td>0.002404</td>\n",
       "      <td>-0.010175</td>\n",
       "      <td>0.003206</td>\n",
       "      <td>-0.026059</td>\n",
       "      <td>0.017842</td>\n",
       "      <td>-0.002259</td>\n",
       "      <td>...</td>\n",
       "      <td>0.234422</td>\n",
       "      <td>0.929196</td>\n",
       "      <td>1.000000</td>\n",
       "      <td>0.999646</td>\n",
       "      <td>0.011448</td>\n",
       "      <td>0.113395</td>\n",
       "      <td>0.055801</td>\n",
       "      <td>0.055198</td>\n",
       "      <td>0.002675</td>\n",
       "      <td>-0.006354</td>\n",
       "    </tr>\n",
       "    <tr>\n",
       "      <td>SEC.DISBURSED.AMOUNT</td>\n",
       "      <td>-0.016857</td>\n",
       "      <td>-0.005119</td>\n",
       "      <td>-0.010594</td>\n",
       "      <td>0.008733</td>\n",
       "      <td>0.002457</td>\n",
       "      <td>-0.010031</td>\n",
       "      <td>0.003301</td>\n",
       "      <td>-0.025630</td>\n",
       "      <td>0.017651</td>\n",
       "      <td>-0.002224</td>\n",
       "      <td>...</td>\n",
       "      <td>0.230982</td>\n",
       "      <td>0.929995</td>\n",
       "      <td>0.999646</td>\n",
       "      <td>1.000000</td>\n",
       "      <td>0.011469</td>\n",
       "      <td>0.112880</td>\n",
       "      <td>0.054886</td>\n",
       "      <td>0.054374</td>\n",
       "      <td>0.002581</td>\n",
       "      <td>-0.006248</td>\n",
       "    </tr>\n",
       "    <tr>\n",
       "      <td>PRIMARY.INSTAL.AMT</td>\n",
       "      <td>-0.009321</td>\n",
       "      <td>0.002350</td>\n",
       "      <td>-0.004356</td>\n",
       "      <td>0.007358</td>\n",
       "      <td>0.004955</td>\n",
       "      <td>-0.011953</td>\n",
       "      <td>0.014116</td>\n",
       "      <td>0.002275</td>\n",
       "      <td>0.015843</td>\n",
       "      <td>0.013470</td>\n",
       "      <td>...</td>\n",
       "      <td>0.002066</td>\n",
       "      <td>0.010393</td>\n",
       "      <td>0.011448</td>\n",
       "      <td>0.011469</td>\n",
       "      <td>1.000000</td>\n",
       "      <td>0.010849</td>\n",
       "      <td>0.127796</td>\n",
       "      <td>0.090364</td>\n",
       "      <td>0.008967</td>\n",
       "      <td>-0.010616</td>\n",
       "    </tr>\n",
       "    <tr>\n",
       "      <td>SEC.INSTAL.AMT</td>\n",
       "      <td>-0.013518</td>\n",
       "      <td>-0.005525</td>\n",
       "      <td>-0.005738</td>\n",
       "      <td>0.000481</td>\n",
       "      <td>0.004265</td>\n",
       "      <td>-0.005826</td>\n",
       "      <td>0.003020</td>\n",
       "      <td>-0.006305</td>\n",
       "      <td>0.009850</td>\n",
       "      <td>0.001894</td>\n",
       "      <td>...</td>\n",
       "      <td>0.077731</td>\n",
       "      <td>0.096351</td>\n",
       "      <td>0.113395</td>\n",
       "      <td>0.112880</td>\n",
       "      <td>0.010849</td>\n",
       "      <td>1.000000</td>\n",
       "      <td>0.028160</td>\n",
       "      <td>0.018613</td>\n",
       "      <td>0.002736</td>\n",
       "      <td>-0.001548</td>\n",
       "    </tr>\n",
       "    <tr>\n",
       "      <td>NEW.ACCTS.IN.LAST.SIX.MONTHS</td>\n",
       "      <td>-0.003842</td>\n",
       "      <td>0.035880</td>\n",
       "      <td>-0.021968</td>\n",
       "      <td>0.083824</td>\n",
       "      <td>-0.008354</td>\n",
       "      <td>-0.053264</td>\n",
       "      <td>0.050079</td>\n",
       "      <td>-0.100080</td>\n",
       "      <td>-0.014942</td>\n",
       "      <td>0.005473</td>\n",
       "      <td>...</td>\n",
       "      <td>0.057046</td>\n",
       "      <td>0.046465</td>\n",
       "      <td>0.055801</td>\n",
       "      <td>0.054886</td>\n",
       "      <td>0.127796</td>\n",
       "      <td>0.028160</td>\n",
       "      <td>1.000000</td>\n",
       "      <td>0.182769</td>\n",
       "      <td>0.264709</td>\n",
       "      <td>-0.029400</td>\n",
       "    </tr>\n",
       "    <tr>\n",
       "      <td>DELINQUENT.ACCTS.IN.LAST.SIX.MONTHS</td>\n",
       "      <td>-0.009186</td>\n",
       "      <td>0.020198</td>\n",
       "      <td>-0.007932</td>\n",
       "      <td>0.041921</td>\n",
       "      <td>-0.001730</td>\n",
       "      <td>-0.024622</td>\n",
       "      <td>0.019438</td>\n",
       "      <td>-0.057419</td>\n",
       "      <td>-0.000655</td>\n",
       "      <td>0.003624</td>\n",
       "      <td>...</td>\n",
       "      <td>0.108810</td>\n",
       "      <td>0.044987</td>\n",
       "      <td>0.055198</td>\n",
       "      <td>0.054374</td>\n",
       "      <td>0.090364</td>\n",
       "      <td>0.018613</td>\n",
       "      <td>0.182769</td>\n",
       "      <td>1.000000</td>\n",
       "      <td>0.070715</td>\n",
       "      <td>0.034462</td>\n",
       "    </tr>\n",
       "    <tr>\n",
       "      <td>NO.OF_INQUIRIES</td>\n",
       "      <td>0.016537</td>\n",
       "      <td>0.038513</td>\n",
       "      <td>-0.017301</td>\n",
       "      <td>0.085725</td>\n",
       "      <td>-0.001813</td>\n",
       "      <td>-0.030988</td>\n",
       "      <td>0.010012</td>\n",
       "      <td>-0.058821</td>\n",
       "      <td>-0.016129</td>\n",
       "      <td>-0.002108</td>\n",
       "      <td>...</td>\n",
       "      <td>0.004975</td>\n",
       "      <td>0.002715</td>\n",
       "      <td>0.002675</td>\n",
       "      <td>0.002581</td>\n",
       "      <td>0.008967</td>\n",
       "      <td>0.002736</td>\n",
       "      <td>0.264709</td>\n",
       "      <td>0.070715</td>\n",
       "      <td>1.000000</td>\n",
       "      <td>0.043678</td>\n",
       "    </tr>\n",
       "    <tr>\n",
       "      <td>loan_default</td>\n",
       "      <td>0.033848</td>\n",
       "      <td>0.077675</td>\n",
       "      <td>0.014261</td>\n",
       "      <td>0.098208</td>\n",
       "      <td>0.030193</td>\n",
       "      <td>0.027357</td>\n",
       "      <td>-0.025039</td>\n",
       "      <td>0.028419</td>\n",
       "      <td>0.048075</td>\n",
       "      <td>0.020657</td>\n",
       "      <td>...</td>\n",
       "      <td>-0.001371</td>\n",
       "      <td>-0.005531</td>\n",
       "      <td>-0.006354</td>\n",
       "      <td>-0.006248</td>\n",
       "      <td>-0.010616</td>\n",
       "      <td>-0.001548</td>\n",
       "      <td>-0.029400</td>\n",
       "      <td>0.034462</td>\n",
       "      <td>0.043678</td>\n",
       "      <td>1.000000</td>\n",
       "    </tr>\n",
       "  </tbody>\n",
       "</table>\n",
       "<p>35 rows × 35 columns</p>\n",
       "</div>"
      ],
      "text/plain": [
       "                                     UniqueID  disbursed_amount  asset_cost  \\\n",
       "UniqueID                             1.000000          0.145575    0.144671   \n",
       "disbursed_amount                     0.145575          1.000000    0.752668   \n",
       "asset_cost                           0.144671          0.752668    1.000000   \n",
       "ltv                                 -0.030537          0.376747   -0.301188   \n",
       "branch_id                           -0.004509          0.018328    0.018586   \n",
       "supplier_id                          0.025747          0.078596    0.150002   \n",
       "manufacturer_id                     -0.021514          0.095203   -0.005256   \n",
       "Current_pincode_ID                   0.030500          0.068540    0.275878   \n",
       "State_ID                            -0.057734         -0.023956   -0.026348   \n",
       "Employee_code_ID                     0.075983          0.010120    0.008711   \n",
       "MobileNo_Avl_Flag                         NaN               NaN         NaN   \n",
       "Aadhar_flag                         -0.001372         -0.015589   -0.093716   \n",
       "PAN_flag                            -0.014291          0.014490    0.048075   \n",
       "VoterID_flag                         0.008201          0.011665    0.083899   \n",
       "Driving_flag                        -0.026072          0.001381    0.020484   \n",
       "Passport_flag                       -0.001382          0.008291    0.005542   \n",
       "PERFORM_CNS.SCORE                   -0.014016          0.011409   -0.047398   \n",
       "PRI.NO.OF.ACCTS                     -0.013584          0.034461   -0.026798   \n",
       "PRI.ACTIVE.ACCTS                    -0.020862          0.039542   -0.021692   \n",
       "PRI.OVERDUE.ACCTS                   -0.007915          0.019422   -0.014782   \n",
       "PRI.CURRENT.BALANCE                 -0.007259          0.015713   -0.004356   \n",
       "PRI.SANCTIONED.AMOUNT               -0.002910          0.006294   -0.001180   \n",
       "PRI.DISBURSED.AMOUNT                -0.002563          0.006412   -0.001221   \n",
       "SEC.NO.OF.ACCTS                     -0.044180         -0.014916   -0.022600   \n",
       "SEC.ACTIVE.ACCTS                    -0.039888         -0.014275   -0.020359   \n",
       "SEC.OVERDUE.ACCTS                   -0.027486         -0.007305   -0.013455   \n",
       "SEC.CURRENT.BALANCE                 -0.013428         -0.004227   -0.008697   \n",
       "SEC.SANCTIONED.AMOUNT               -0.017114         -0.005271   -0.010776   \n",
       "SEC.DISBURSED.AMOUNT                -0.016857         -0.005119   -0.010594   \n",
       "PRIMARY.INSTAL.AMT                  -0.009321          0.002350   -0.004356   \n",
       "SEC.INSTAL.AMT                      -0.013518         -0.005525   -0.005738   \n",
       "NEW.ACCTS.IN.LAST.SIX.MONTHS        -0.003842          0.035880   -0.021968   \n",
       "DELINQUENT.ACCTS.IN.LAST.SIX.MONTHS -0.009186          0.020198   -0.007932   \n",
       "NO.OF_INQUIRIES                      0.016537          0.038513   -0.017301   \n",
       "loan_default                         0.033848          0.077675    0.014261   \n",
       "\n",
       "                                          ltv  branch_id  supplier_id  \\\n",
       "UniqueID                            -0.030537  -0.004509     0.025747   \n",
       "disbursed_amount                     0.376747   0.018328     0.078596   \n",
       "asset_cost                          -0.301188   0.018586     0.150002   \n",
       "ltv                                  1.000000   0.006382    -0.103732   \n",
       "branch_id                            0.006382   1.000000     0.225744   \n",
       "supplier_id                         -0.103732   0.225744     1.000000   \n",
       "manufacturer_id                      0.121003  -0.049957    -0.063916   \n",
       "Current_pincode_ID                  -0.300112   0.048192     0.187401   \n",
       "State_ID                             0.004882   0.187782     0.105502   \n",
       "Employee_code_ID                     0.004940   0.088764     0.095792   \n",
       "MobileNo_Avl_Flag                         NaN        NaN          NaN   \n",
       "Aadhar_flag                          0.106953  -0.036384    -0.081161   \n",
       "PAN_flag                            -0.037786   0.030206     0.036804   \n",
       "VoterID_flag                        -0.098393   0.021387     0.079355   \n",
       "Driving_flag                        -0.024060  -0.015503    -0.015682   \n",
       "Passport_flag                        0.004467  -0.008537    -0.008773   \n",
       "PERFORM_CNS.SCORE                    0.084993  -0.018049    -0.077029   \n",
       "PRI.NO.OF.ACCTS                      0.086571  -0.010384    -0.070536   \n",
       "PRI.ACTIVE.ACCTS                     0.087929  -0.006403    -0.066930   \n",
       "PRI.OVERDUE.ACCTS                    0.051770  -0.005546    -0.042692   \n",
       "PRI.CURRENT.BALANCE                  0.026714  -0.004133    -0.022582   \n",
       "PRI.SANCTIONED.AMOUNT                0.009955  -0.003370    -0.012959   \n",
       "PRI.DISBURSED.AMOUNT                 0.010177  -0.003412    -0.012950   \n",
       "SEC.NO.OF.ACCTS                      0.013019  -0.003194    -0.025809   \n",
       "SEC.ACTIVE.ACCTS                     0.010565  -0.001957    -0.019885   \n",
       "SEC.OVERDUE.ACCTS                    0.010256  -0.007104    -0.015665   \n",
       "SEC.CURRENT.BALANCE                  0.007195   0.001418    -0.008729   \n",
       "SEC.SANCTIONED.AMOUNT                0.008800   0.002404    -0.010175   \n",
       "SEC.DISBURSED.AMOUNT                 0.008733   0.002457    -0.010031   \n",
       "PRIMARY.INSTAL.AMT                   0.007358   0.004955    -0.011953   \n",
       "SEC.INSTAL.AMT                       0.000481   0.004265    -0.005826   \n",
       "NEW.ACCTS.IN.LAST.SIX.MONTHS         0.083824  -0.008354    -0.053264   \n",
       "DELINQUENT.ACCTS.IN.LAST.SIX.MONTHS  0.041921  -0.001730    -0.024622   \n",
       "NO.OF_INQUIRIES                      0.085725  -0.001813    -0.030988   \n",
       "loan_default                         0.098208   0.030193     0.027357   \n",
       "\n",
       "                                     manufacturer_id  Current_pincode_ID  \\\n",
       "UniqueID                                   -0.021514            0.030500   \n",
       "disbursed_amount                            0.095203            0.068540   \n",
       "asset_cost                                 -0.005256            0.275878   \n",
       "ltv                                         0.121003           -0.300112   \n",
       "branch_id                                  -0.049957            0.048192   \n",
       "supplier_id                                -0.063916            0.187401   \n",
       "manufacturer_id                             1.000000           -0.104349   \n",
       "Current_pincode_ID                         -0.104349            1.000000   \n",
       "State_ID                                    0.026412            0.047903   \n",
       "Employee_code_ID                           -0.045009           -0.042609   \n",
       "MobileNo_Avl_Flag                                NaN                 NaN   \n",
       "Aadhar_flag                                 0.041251           -0.309285   \n",
       "PAN_flag                                   -0.029272            0.041118   \n",
       "VoterID_flag                               -0.046489            0.281934   \n",
       "Driving_flag                                0.004777            0.039667   \n",
       "Passport_flag                               0.016338           -0.008913   \n",
       "PERFORM_CNS.SCORE                           0.073012           -0.161664   \n",
       "PRI.NO.OF.ACCTS                             0.068371           -0.084687   \n",
       "PRI.ACTIVE.ACCTS                            0.065589           -0.117882   \n",
       "PRI.OVERDUE.ACCTS                           0.025992           -0.062177   \n",
       "PRI.CURRENT.BALANCE                         0.031722           -0.055948   \n",
       "PRI.SANCTIONED.AMOUNT                       0.017242           -0.025843   \n",
       "PRI.DISBURSED.AMOUNT                        0.017080           -0.025697   \n",
       "SEC.NO.OF.ACCTS                             0.008392           -0.051766   \n",
       "SEC.ACTIVE.ACCTS                            0.005898           -0.049852   \n",
       "SEC.OVERDUE.ACCTS                           0.008152           -0.036228   \n",
       "SEC.CURRENT.BALANCE                         0.003106           -0.021048   \n",
       "SEC.SANCTIONED.AMOUNT                       0.003206           -0.026059   \n",
       "SEC.DISBURSED.AMOUNT                        0.003301           -0.025630   \n",
       "PRIMARY.INSTAL.AMT                          0.014116            0.002275   \n",
       "SEC.INSTAL.AMT                              0.003020           -0.006305   \n",
       "NEW.ACCTS.IN.LAST.SIX.MONTHS                0.050079           -0.100080   \n",
       "DELINQUENT.ACCTS.IN.LAST.SIX.MONTHS         0.019438           -0.057419   \n",
       "NO.OF_INQUIRIES                             0.010012           -0.058821   \n",
       "loan_default                               -0.025039            0.028419   \n",
       "\n",
       "                                     State_ID  Employee_code_ID  ...  \\\n",
       "UniqueID                            -0.057734          0.075983  ...   \n",
       "disbursed_amount                    -0.023956          0.010120  ...   \n",
       "asset_cost                          -0.026348          0.008711  ...   \n",
       "ltv                                  0.004882          0.004940  ...   \n",
       "branch_id                            0.187782          0.088764  ...   \n",
       "supplier_id                          0.105502          0.095792  ...   \n",
       "manufacturer_id                      0.026412         -0.045009  ...   \n",
       "Current_pincode_ID                   0.047903         -0.042609  ...   \n",
       "State_ID                             1.000000          0.117309  ...   \n",
       "Employee_code_ID                     0.117309          1.000000  ...   \n",
       "MobileNo_Avl_Flag                         NaN               NaN  ...   \n",
       "Aadhar_flag                         -0.169882          0.048759  ...   \n",
       "PAN_flag                             0.113939         -0.027579  ...   \n",
       "VoterID_flag                         0.151839         -0.047342  ...   \n",
       "Driving_flag                         0.027886         -0.017617  ...   \n",
       "Passport_flag                       -0.000915         -0.007205  ...   \n",
       "PERFORM_CNS.SCORE                   -0.042323         -0.005767  ...   \n",
       "PRI.NO.OF.ACCTS                     -0.008704          0.009197  ...   \n",
       "PRI.ACTIVE.ACCTS                    -0.021061          0.006111  ...   \n",
       "PRI.OVERDUE.ACCTS                   -0.012381         -0.000116  ...   \n",
       "PRI.CURRENT.BALANCE                 -0.006359          0.003528  ...   \n",
       "PRI.SANCTIONED.AMOUNT               -0.004304         -0.001105  ...   \n",
       "PRI.DISBURSED.AMOUNT                -0.004129         -0.001088  ...   \n",
       "SEC.NO.OF.ACCTS                      0.031245         -0.001385  ...   \n",
       "SEC.ACTIVE.ACCTS                     0.032142         -0.003331  ...   \n",
       "SEC.OVERDUE.ACCTS                    0.015679         -0.006537  ...   \n",
       "SEC.CURRENT.BALANCE                  0.013231         -0.003543  ...   \n",
       "SEC.SANCTIONED.AMOUNT                0.017842         -0.002259  ...   \n",
       "SEC.DISBURSED.AMOUNT                 0.017651         -0.002224  ...   \n",
       "PRIMARY.INSTAL.AMT                   0.015843          0.013470  ...   \n",
       "SEC.INSTAL.AMT                       0.009850          0.001894  ...   \n",
       "NEW.ACCTS.IN.LAST.SIX.MONTHS        -0.014942          0.005473  ...   \n",
       "DELINQUENT.ACCTS.IN.LAST.SIX.MONTHS -0.000655          0.003624  ...   \n",
       "NO.OF_INQUIRIES                     -0.016129         -0.002108  ...   \n",
       "loan_default                         0.048075          0.020657  ...   \n",
       "\n",
       "                                     SEC.OVERDUE.ACCTS  SEC.CURRENT.BALANCE  \\\n",
       "UniqueID                                     -0.027486            -0.013428   \n",
       "disbursed_amount                             -0.007305            -0.004227   \n",
       "asset_cost                                   -0.013455            -0.008697   \n",
       "ltv                                           0.010256             0.007195   \n",
       "branch_id                                    -0.007104             0.001418   \n",
       "supplier_id                                  -0.015665            -0.008729   \n",
       "manufacturer_id                               0.008152             0.003106   \n",
       "Current_pincode_ID                           -0.036228            -0.021048   \n",
       "State_ID                                      0.015679             0.013231   \n",
       "Employee_code_ID                             -0.006537            -0.003543   \n",
       "MobileNo_Avl_Flag                                  NaN                  NaN   \n",
       "Aadhar_flag                                   0.007979             0.006420   \n",
       "PAN_flag                                      0.020503             0.011181   \n",
       "VoterID_flag                                 -0.004257            -0.005591   \n",
       "Driving_flag                                  0.002497             0.001667   \n",
       "Passport_flag                                -0.000497             0.003205   \n",
       "PERFORM_CNS.SCORE                             0.035100             0.020128   \n",
       "PRI.NO.OF.ACCTS                               0.030364             0.020945   \n",
       "PRI.ACTIVE.ACCTS                              0.037422             0.022018   \n",
       "PRI.OVERDUE.ACCTS                             0.041624             0.012623   \n",
       "PRI.CURRENT.BALANCE                           0.015225             0.019378   \n",
       "PRI.SANCTIONED.AMOUNT                         0.007967             0.010750   \n",
       "PRI.DISBURSED.AMOUNT                          0.007872             0.010682   \n",
       "SEC.NO.OF.ACCTS                               0.510394             0.281865   \n",
       "SEC.ACTIVE.ACCTS                              0.526209             0.361325   \n",
       "SEC.OVERDUE.ACCTS                             1.000000             0.187383   \n",
       "SEC.CURRENT.BALANCE                           0.187383             1.000000   \n",
       "SEC.SANCTIONED.AMOUNT                         0.234422             0.929196   \n",
       "SEC.DISBURSED.AMOUNT                          0.230982             0.929995   \n",
       "PRIMARY.INSTAL.AMT                            0.002066             0.010393   \n",
       "SEC.INSTAL.AMT                                0.077731             0.096351   \n",
       "NEW.ACCTS.IN.LAST.SIX.MONTHS                  0.057046             0.046465   \n",
       "DELINQUENT.ACCTS.IN.LAST.SIX.MONTHS           0.108810             0.044987   \n",
       "NO.OF_INQUIRIES                               0.004975             0.002715   \n",
       "loan_default                                 -0.001371            -0.005531   \n",
       "\n",
       "                                     SEC.SANCTIONED.AMOUNT  \\\n",
       "UniqueID                                         -0.017114   \n",
       "disbursed_amount                                 -0.005271   \n",
       "asset_cost                                       -0.010776   \n",
       "ltv                                               0.008800   \n",
       "branch_id                                         0.002404   \n",
       "supplier_id                                      -0.010175   \n",
       "manufacturer_id                                   0.003206   \n",
       "Current_pincode_ID                               -0.026059   \n",
       "State_ID                                          0.017842   \n",
       "Employee_code_ID                                 -0.002259   \n",
       "MobileNo_Avl_Flag                                      NaN   \n",
       "Aadhar_flag                                       0.007591   \n",
       "PAN_flag                                          0.015279   \n",
       "VoterID_flag                                     -0.006619   \n",
       "Driving_flag                                      0.002600   \n",
       "Passport_flag                                     0.003539   \n",
       "PERFORM_CNS.SCORE                                 0.024365   \n",
       "PRI.NO.OF.ACCTS                                   0.024877   \n",
       "PRI.ACTIVE.ACCTS                                  0.026805   \n",
       "PRI.OVERDUE.ACCTS                                 0.017194   \n",
       "PRI.CURRENT.BALANCE                               0.021179   \n",
       "PRI.SANCTIONED.AMOUNT                             0.011859   \n",
       "PRI.DISBURSED.AMOUNT                              0.011771   \n",
       "SEC.NO.OF.ACCTS                                   0.359193   \n",
       "SEC.ACTIVE.ACCTS                                  0.452693   \n",
       "SEC.OVERDUE.ACCTS                                 0.234422   \n",
       "SEC.CURRENT.BALANCE                               0.929196   \n",
       "SEC.SANCTIONED.AMOUNT                             1.000000   \n",
       "SEC.DISBURSED.AMOUNT                              0.999646   \n",
       "PRIMARY.INSTAL.AMT                                0.011448   \n",
       "SEC.INSTAL.AMT                                    0.113395   \n",
       "NEW.ACCTS.IN.LAST.SIX.MONTHS                      0.055801   \n",
       "DELINQUENT.ACCTS.IN.LAST.SIX.MONTHS               0.055198   \n",
       "NO.OF_INQUIRIES                                   0.002675   \n",
       "loan_default                                     -0.006354   \n",
       "\n",
       "                                     SEC.DISBURSED.AMOUNT  PRIMARY.INSTAL.AMT  \\\n",
       "UniqueID                                        -0.016857           -0.009321   \n",
       "disbursed_amount                                -0.005119            0.002350   \n",
       "asset_cost                                      -0.010594           -0.004356   \n",
       "ltv                                              0.008733            0.007358   \n",
       "branch_id                                        0.002457            0.004955   \n",
       "supplier_id                                     -0.010031           -0.011953   \n",
       "manufacturer_id                                  0.003301            0.014116   \n",
       "Current_pincode_ID                              -0.025630            0.002275   \n",
       "State_ID                                         0.017651            0.015843   \n",
       "Employee_code_ID                                -0.002224            0.013470   \n",
       "MobileNo_Avl_Flag                                     NaN                 NaN   \n",
       "Aadhar_flag                                      0.007540            0.014832   \n",
       "PAN_flag                                         0.014907           -0.010851   \n",
       "VoterID_flag                                    -0.006580           -0.018820   \n",
       "Driving_flag                                     0.002583            0.006219   \n",
       "Passport_flag                                    0.003506            0.012914   \n",
       "PERFORM_CNS.SCORE                                0.023953            0.071309   \n",
       "PRI.NO.OF.ACCTS                                  0.024551            0.269546   \n",
       "PRI.ACTIVE.ACCTS                                 0.026325            0.192397   \n",
       "PRI.OVERDUE.ACCTS                                0.016855            0.103095   \n",
       "PRI.CURRENT.BALANCE                              0.021152            0.152499   \n",
       "PRI.SANCTIONED.AMOUNT                            0.011843            0.072591   \n",
       "PRI.DISBURSED.AMOUNT                             0.011757            0.073058   \n",
       "SEC.NO.OF.ACCTS                                  0.353330            0.009986   \n",
       "SEC.ACTIVE.ACCTS                                 0.445950            0.007063   \n",
       "SEC.OVERDUE.ACCTS                                0.230982            0.002066   \n",
       "SEC.CURRENT.BALANCE                              0.929995            0.010393   \n",
       "SEC.SANCTIONED.AMOUNT                            0.999646            0.011448   \n",
       "SEC.DISBURSED.AMOUNT                             1.000000            0.011469   \n",
       "PRIMARY.INSTAL.AMT                               0.011469            1.000000   \n",
       "SEC.INSTAL.AMT                                   0.112880            0.010849   \n",
       "NEW.ACCTS.IN.LAST.SIX.MONTHS                     0.054886            0.127796   \n",
       "DELINQUENT.ACCTS.IN.LAST.SIX.MONTHS              0.054374            0.090364   \n",
       "NO.OF_INQUIRIES                                  0.002581            0.008967   \n",
       "loan_default                                    -0.006248           -0.010616   \n",
       "\n",
       "                                     SEC.INSTAL.AMT  \\\n",
       "UniqueID                                  -0.013518   \n",
       "disbursed_amount                          -0.005525   \n",
       "asset_cost                                -0.005738   \n",
       "ltv                                        0.000481   \n",
       "branch_id                                  0.004265   \n",
       "supplier_id                               -0.005826   \n",
       "manufacturer_id                            0.003020   \n",
       "Current_pincode_ID                        -0.006305   \n",
       "State_ID                                   0.009850   \n",
       "Employee_code_ID                           0.001894   \n",
       "MobileNo_Avl_Flag                               NaN   \n",
       "Aadhar_flag                                0.006273   \n",
       "PAN_flag                                  -0.000219   \n",
       "VoterID_flag                              -0.006019   \n",
       "Driving_flag                              -0.000843   \n",
       "Passport_flag                              0.000524   \n",
       "PERFORM_CNS.SCORE                          0.015655   \n",
       "PRI.NO.OF.ACCTS                            0.023421   \n",
       "PRI.ACTIVE.ACCTS                           0.021210   \n",
       "PRI.OVERDUE.ACCTS                          0.009324   \n",
       "PRI.CURRENT.BALANCE                        0.006799   \n",
       "PRI.SANCTIONED.AMOUNT                      0.003883   \n",
       "PRI.DISBURSED.AMOUNT                       0.003806   \n",
       "SEC.NO.OF.ACCTS                            0.235277   \n",
       "SEC.ACTIVE.ACCTS                           0.148895   \n",
       "SEC.OVERDUE.ACCTS                          0.077731   \n",
       "SEC.CURRENT.BALANCE                        0.096351   \n",
       "SEC.SANCTIONED.AMOUNT                      0.113395   \n",
       "SEC.DISBURSED.AMOUNT                       0.112880   \n",
       "PRIMARY.INSTAL.AMT                         0.010849   \n",
       "SEC.INSTAL.AMT                             1.000000   \n",
       "NEW.ACCTS.IN.LAST.SIX.MONTHS               0.028160   \n",
       "DELINQUENT.ACCTS.IN.LAST.SIX.MONTHS        0.018613   \n",
       "NO.OF_INQUIRIES                            0.002736   \n",
       "loan_default                              -0.001548   \n",
       "\n",
       "                                     NEW.ACCTS.IN.LAST.SIX.MONTHS  \\\n",
       "UniqueID                                                -0.003842   \n",
       "disbursed_amount                                         0.035880   \n",
       "asset_cost                                              -0.021968   \n",
       "ltv                                                      0.083824   \n",
       "branch_id                                               -0.008354   \n",
       "supplier_id                                             -0.053264   \n",
       "manufacturer_id                                          0.050079   \n",
       "Current_pincode_ID                                      -0.100080   \n",
       "State_ID                                                -0.014942   \n",
       "Employee_code_ID                                         0.005473   \n",
       "MobileNo_Avl_Flag                                             NaN   \n",
       "Aadhar_flag                                              0.059269   \n",
       "PAN_flag                                                 0.007046   \n",
       "VoterID_flag                                            -0.059591   \n",
       "Driving_flag                                            -0.000929   \n",
       "Passport_flag                                            0.008052   \n",
       "PERFORM_CNS.SCORE                                        0.346025   \n",
       "PRI.NO.OF.ACCTS                                          0.537622   \n",
       "PRI.ACTIVE.ACCTS                                         0.702943   \n",
       "PRI.OVERDUE.ACCTS                                        0.109896   \n",
       "PRI.CURRENT.BALANCE                                      0.198566   \n",
       "PRI.SANCTIONED.AMOUNT                                    0.095074   \n",
       "PRI.DISBURSED.AMOUNT                                     0.094681   \n",
       "SEC.NO.OF.ACCTS                                          0.119791   \n",
       "SEC.ACTIVE.ACCTS                                         0.134577   \n",
       "SEC.OVERDUE.ACCTS                                        0.057046   \n",
       "SEC.CURRENT.BALANCE                                      0.046465   \n",
       "SEC.SANCTIONED.AMOUNT                                    0.055801   \n",
       "SEC.DISBURSED.AMOUNT                                     0.054886   \n",
       "PRIMARY.INSTAL.AMT                                       0.127796   \n",
       "SEC.INSTAL.AMT                                           0.028160   \n",
       "NEW.ACCTS.IN.LAST.SIX.MONTHS                             1.000000   \n",
       "DELINQUENT.ACCTS.IN.LAST.SIX.MONTHS                      0.182769   \n",
       "NO.OF_INQUIRIES                                          0.264709   \n",
       "loan_default                                            -0.029400   \n",
       "\n",
       "                                     DELINQUENT.ACCTS.IN.LAST.SIX.MONTHS  \\\n",
       "UniqueID                                                       -0.009186   \n",
       "disbursed_amount                                                0.020198   \n",
       "asset_cost                                                     -0.007932   \n",
       "ltv                                                             0.041921   \n",
       "branch_id                                                      -0.001730   \n",
       "supplier_id                                                    -0.024622   \n",
       "manufacturer_id                                                 0.019438   \n",
       "Current_pincode_ID                                             -0.057419   \n",
       "State_ID                                                       -0.000655   \n",
       "Employee_code_ID                                                0.003624   \n",
       "MobileNo_Avl_Flag                                                    NaN   \n",
       "Aadhar_flag                                                     0.023823   \n",
       "PAN_flag                                                       -0.002562   \n",
       "VoterID_flag                                                   -0.027453   \n",
       "Driving_flag                                                    0.011311   \n",
       "Passport_flag                                                   0.006695   \n",
       "PERFORM_CNS.SCORE                                               0.164745   \n",
       "PRI.NO.OF.ACCTS                                                 0.314148   \n",
       "PRI.ACTIVE.ACCTS                                                0.382584   \n",
       "PRI.OVERDUE.ACCTS                                               0.471564   \n",
       "PRI.CURRENT.BALANCE                                             0.244243   \n",
       "PRI.SANCTIONED.AMOUNT                                           0.122028   \n",
       "PRI.DISBURSED.AMOUNT                                            0.122650   \n",
       "SEC.NO.OF.ACCTS                                                 0.100321   \n",
       "SEC.ACTIVE.ACCTS                                                0.109194   \n",
       "SEC.OVERDUE.ACCTS                                               0.108810   \n",
       "SEC.CURRENT.BALANCE                                             0.044987   \n",
       "SEC.SANCTIONED.AMOUNT                                           0.055198   \n",
       "SEC.DISBURSED.AMOUNT                                            0.054374   \n",
       "PRIMARY.INSTAL.AMT                                              0.090364   \n",
       "SEC.INSTAL.AMT                                                  0.018613   \n",
       "NEW.ACCTS.IN.LAST.SIX.MONTHS                                    0.182769   \n",
       "DELINQUENT.ACCTS.IN.LAST.SIX.MONTHS                             1.000000   \n",
       "NO.OF_INQUIRIES                                                 0.070715   \n",
       "loan_default                                                    0.034462   \n",
       "\n",
       "                                     NO.OF_INQUIRIES  loan_default  \n",
       "UniqueID                                    0.016537      0.033848  \n",
       "disbursed_amount                            0.038513      0.077675  \n",
       "asset_cost                                 -0.017301      0.014261  \n",
       "ltv                                         0.085725      0.098208  \n",
       "branch_id                                  -0.001813      0.030193  \n",
       "supplier_id                                -0.030988      0.027357  \n",
       "manufacturer_id                             0.010012     -0.025039  \n",
       "Current_pincode_ID                         -0.058821      0.028419  \n",
       "State_ID                                   -0.016129      0.048075  \n",
       "Employee_code_ID                           -0.002108      0.020657  \n",
       "MobileNo_Avl_Flag                                NaN           NaN  \n",
       "Aadhar_flag                                 0.027317     -0.041593  \n",
       "PAN_flag                                    0.016657      0.002046  \n",
       "VoterID_flag                               -0.018285      0.043747  \n",
       "Driving_flag                               -0.021179     -0.005821  \n",
       "Passport_flag                              -0.001908     -0.007602  \n",
       "PERFORM_CNS.SCORE                           0.152838     -0.057929  \n",
       "PRI.NO.OF.ACCTS                             0.180744     -0.035456  \n",
       "PRI.ACTIVE.ACCTS                            0.195484     -0.041451  \n",
       "PRI.OVERDUE.ACCTS                           0.063780      0.040872  \n",
       "PRI.CURRENT.BALANCE                         0.023861     -0.027386  \n",
       "PRI.SANCTIONED.AMOUNT                       0.010743     -0.011304  \n",
       "PRI.DISBURSED.AMOUNT                        0.010935     -0.011155  \n",
       "SEC.NO.OF.ACCTS                             0.005035     -0.008385  \n",
       "SEC.ACTIVE.ACCTS                            0.004830     -0.005993  \n",
       "SEC.OVERDUE.ACCTS                           0.004975     -0.001371  \n",
       "SEC.CURRENT.BALANCE                         0.002715     -0.005531  \n",
       "SEC.SANCTIONED.AMOUNT                       0.002675     -0.006354  \n",
       "SEC.DISBURSED.AMOUNT                        0.002581     -0.006248  \n",
       "PRIMARY.INSTAL.AMT                          0.008967     -0.010616  \n",
       "SEC.INSTAL.AMT                              0.002736     -0.001548  \n",
       "NEW.ACCTS.IN.LAST.SIX.MONTHS                0.264709     -0.029400  \n",
       "DELINQUENT.ACCTS.IN.LAST.SIX.MONTHS         0.070715      0.034462  \n",
       "NO.OF_INQUIRIES                             1.000000      0.043678  \n",
       "loan_default                                0.043678      1.000000  \n",
       "\n",
       "[35 rows x 35 columns]"
      ]
     },
     "execution_count": 9,
     "metadata": {},
     "output_type": "execute_result"
    }
   ],
   "source": [
    "train_data.corr()"
   ]
  },
  {
   "cell_type": "markdown",
   "metadata": {},
   "source": [
    "# checking missing values if any"
   ]
  },
  {
   "cell_type": "code",
   "execution_count": 10,
   "metadata": {
    "scrolled": true
   },
   "outputs": [
    {
     "data": {
      "text/plain": [
       "UniqueID                                  0\n",
       "disbursed_amount                          0\n",
       "asset_cost                                0\n",
       "ltv                                       0\n",
       "branch_id                                 0\n",
       "supplier_id                               0\n",
       "manufacturer_id                           0\n",
       "Current_pincode_ID                        0\n",
       "Date.of.Birth                             0\n",
       "Employment.Type                        7661\n",
       "DisbursalDate                             0\n",
       "State_ID                                  0\n",
       "Employee_code_ID                          0\n",
       "MobileNo_Avl_Flag                         0\n",
       "Aadhar_flag                               0\n",
       "PAN_flag                                  0\n",
       "VoterID_flag                              0\n",
       "Driving_flag                              0\n",
       "Passport_flag                             0\n",
       "PERFORM_CNS.SCORE                         0\n",
       "PERFORM_CNS.SCORE.DESCRIPTION             0\n",
       "PRI.NO.OF.ACCTS                           0\n",
       "PRI.ACTIVE.ACCTS                          0\n",
       "PRI.OVERDUE.ACCTS                         0\n",
       "PRI.CURRENT.BALANCE                       0\n",
       "PRI.SANCTIONED.AMOUNT                     0\n",
       "PRI.DISBURSED.AMOUNT                      0\n",
       "SEC.NO.OF.ACCTS                           0\n",
       "SEC.ACTIVE.ACCTS                          0\n",
       "SEC.OVERDUE.ACCTS                         0\n",
       "SEC.CURRENT.BALANCE                       0\n",
       "SEC.SANCTIONED.AMOUNT                     0\n",
       "SEC.DISBURSED.AMOUNT                      0\n",
       "PRIMARY.INSTAL.AMT                        0\n",
       "SEC.INSTAL.AMT                            0\n",
       "NEW.ACCTS.IN.LAST.SIX.MONTHS              0\n",
       "DELINQUENT.ACCTS.IN.LAST.SIX.MONTHS       0\n",
       "AVERAGE.ACCT.AGE                          0\n",
       "CREDIT.HISTORY.LENGTH                     0\n",
       "NO.OF_INQUIRIES                           0\n",
       "loan_default                              0\n",
       "dtype: int64"
      ]
     },
     "execution_count": 10,
     "metadata": {},
     "output_type": "execute_result"
    }
   ],
   "source": [
    "train_data.isnull().sum()"
   ]
  },
  {
   "cell_type": "markdown",
   "metadata": {},
   "source": [
    "# counting the no of labels in Employment.Type"
   ]
  },
  {
   "cell_type": "code",
   "execution_count": 11,
   "metadata": {},
   "outputs": [
    {
     "data": {
      "text/plain": [
       "Self employed    127635\n",
       "Salaried          97858\n",
       "Name: Employment.Type, dtype: int64"
      ]
     },
     "execution_count": 11,
     "metadata": {},
     "output_type": "execute_result"
    }
   ],
   "source": [
    "train_data['Employment.Type'].value_counts()"
   ]
  },
  {
   "cell_type": "markdown",
   "metadata": {},
   "source": [
    "# treating the 'Employment.Type' by replacing its NAN values with label Salaried as we see in above code we have less people of salaried"
   ]
  },
  {
   "cell_type": "code",
   "execution_count": 12,
   "metadata": {},
   "outputs": [],
   "source": [
    "train_data['Employment.Type'].fillna('Salaried', inplace=True)"
   ]
  },
  {
   "cell_type": "markdown",
   "metadata": {},
   "source": [
    "# checking again it has been treated or not "
   ]
  },
  {
   "cell_type": "code",
   "execution_count": 13,
   "metadata": {},
   "outputs": [
    {
     "data": {
      "text/plain": [
       "UniqueID                               0\n",
       "disbursed_amount                       0\n",
       "asset_cost                             0\n",
       "ltv                                    0\n",
       "branch_id                              0\n",
       "supplier_id                            0\n",
       "manufacturer_id                        0\n",
       "Current_pincode_ID                     0\n",
       "Date.of.Birth                          0\n",
       "Employment.Type                        0\n",
       "DisbursalDate                          0\n",
       "State_ID                               0\n",
       "Employee_code_ID                       0\n",
       "MobileNo_Avl_Flag                      0\n",
       "Aadhar_flag                            0\n",
       "PAN_flag                               0\n",
       "VoterID_flag                           0\n",
       "Driving_flag                           0\n",
       "Passport_flag                          0\n",
       "PERFORM_CNS.SCORE                      0\n",
       "PERFORM_CNS.SCORE.DESCRIPTION          0\n",
       "PRI.NO.OF.ACCTS                        0\n",
       "PRI.ACTIVE.ACCTS                       0\n",
       "PRI.OVERDUE.ACCTS                      0\n",
       "PRI.CURRENT.BALANCE                    0\n",
       "PRI.SANCTIONED.AMOUNT                  0\n",
       "PRI.DISBURSED.AMOUNT                   0\n",
       "SEC.NO.OF.ACCTS                        0\n",
       "SEC.ACTIVE.ACCTS                       0\n",
       "SEC.OVERDUE.ACCTS                      0\n",
       "SEC.CURRENT.BALANCE                    0\n",
       "SEC.SANCTIONED.AMOUNT                  0\n",
       "SEC.DISBURSED.AMOUNT                   0\n",
       "PRIMARY.INSTAL.AMT                     0\n",
       "SEC.INSTAL.AMT                         0\n",
       "NEW.ACCTS.IN.LAST.SIX.MONTHS           0\n",
       "DELINQUENT.ACCTS.IN.LAST.SIX.MONTHS    0\n",
       "AVERAGE.ACCT.AGE                       0\n",
       "CREDIT.HISTORY.LENGTH                  0\n",
       "NO.OF_INQUIRIES                        0\n",
       "loan_default                           0\n",
       "dtype: int64"
      ]
     },
     "execution_count": 13,
     "metadata": {},
     "output_type": "execute_result"
    }
   ],
   "source": [
    "train_data.isnull().sum()"
   ]
  },
  {
   "cell_type": "markdown",
   "metadata": {},
   "source": [
    "# looking further for the outliers in below code, we always check outliers in continous inputs only.. and never treat the output"
   ]
  },
  {
   "cell_type": "code",
   "execution_count": 14,
   "metadata": {},
   "outputs": [
    {
     "data": {
      "text/plain": [
       "<matplotlib.collections.PathCollection at 0x19f4a70>"
      ]
     },
     "execution_count": 14,
     "metadata": {},
     "output_type": "execute_result"
    },
    {
     "data": {
      "image/png": "[encoded data removed]",
      "text/plain": [
       "<Figure size 432x288 with 1 Axes>"
      ]
     },
     "metadata": {},
     "output_type": "display_data"
    }
   ],
   "source": [
    "import matplotlib.pyplot as plt\n",
    "plt.scatter(train_data['disbursed_amount'].index,train_data['disbursed_amount'])"
   ]
  },
  {
   "cell_type": "markdown",
   "metadata": {},
   "source": [
    "# though we get the outliers in above column then we'll treate them in below code"
   ]
  },
  {
   "cell_type": "code",
   "execution_count": 15,
   "metadata": {},
   "outputs": [],
   "source": [
    "from scipy import stats\n",
    "import numpy as np\n",
    "li=list(train_data['disbursed_amount'][np.abs(stats.zscore(train_data['disbursed_amount']))>5].index)"
   ]
  },
  {
   "cell_type": "code",
   "execution_count": 16,
   "metadata": {},
   "outputs": [
    {
     "name": "stderr",
     "output_type": "stream",
     "text": [
      "C:\\ProgramData\\Anaconda3\\lib\\site-packages\\ipykernel_launcher.py:1: SettingWithCopyWarning: \n",
      "A value is trying to be set on a copy of a slice from a DataFrame\n",
      "\n",
      "See the caveats in the documentation: http://pandas.pydata.org/pandas-docs/stable/user_guide/indexing.html#returning-a-view-versus-a-copy\n",
      "  \"\"\"Entry point for launching an IPython kernel.\n"
     ]
    }
   ],
   "source": [
    "train_data['disbursed_amount'][li]=train_data.drop(li)['disbursed_amount'].mean()"
   ]
  },
  {
   "cell_type": "markdown",
   "metadata": {},
   "source": [
    "# what we have done in above code is: storing all the outliers in li and dropping by the mean of it."
   ]
  },
  {
   "cell_type": "markdown",
   "metadata": {},
   "source": [
    "# checking again if it has been treated or not"
   ]
  },
  {
   "cell_type": "code",
   "execution_count": 17,
   "metadata": {},
   "outputs": [
    {
     "data": {
      "text/plain": [
       "<matplotlib.collections.PathCollection at 0x5a1b290>"
      ]
     },
     "execution_count": 17,
     "metadata": {},
     "output_type": "execute_result"
    },
    {
     "data": {
      "image/png": "[encoded data removed]",
      "text/plain": [
       "<Figure size 432x288 with 1 Axes>"
      ]
     },
     "metadata": {},
     "output_type": "display_data"
    }
   ],
   "source": [
    "plt.scatter(train_data['disbursed_amount'].index,train_data['disbursed_amount'])"
   ]
  },
  {
   "cell_type": "markdown",
   "metadata": {},
   "source": [
    "# checking outliers for another input"
   ]
  },
  {
   "cell_type": "code",
   "execution_count": 18,
   "metadata": {
    "scrolled": true
   },
   "outputs": [
    {
     "data": {
      "text/plain": [
       "<matplotlib.collections.PathCollection at 0x5a4ee30>"
      ]
     },
     "execution_count": 18,
     "metadata": {},
     "output_type": "execute_result"
    },
    {
     "data": {
      "image/png": "[encoded data removed]",
      "text/plain": [
       "<Figure size 432x288 with 1 Axes>"
      ]
     },
     "metadata": {},
     "output_type": "display_data"
    }
   ],
   "source": [
    "plt.scatter(train_data['asset_cost'].index,train_data['asset_cost'])"
   ]
  },
  {
   "cell_type": "markdown",
   "metadata": {},
   "source": [
    "# treating them same as above"
   ]
  },
  {
   "cell_type": "code",
   "execution_count": 19,
   "metadata": {},
   "outputs": [],
   "source": [
    "li=list(train_data['asset_cost'][np.abs(stats.zscore(train_data['asset_cost']))>1].index)"
   ]
  },
  {
   "cell_type": "code",
   "execution_count": 20,
   "metadata": {},
   "outputs": [
    {
     "name": "stderr",
     "output_type": "stream",
     "text": [
      "C:\\ProgramData\\Anaconda3\\lib\\site-packages\\ipykernel_launcher.py:1: SettingWithCopyWarning: \n",
      "A value is trying to be set on a copy of a slice from a DataFrame\n",
      "\n",
      "See the caveats in the documentation: http://pandas.pydata.org/pandas-docs/stable/user_guide/indexing.html#returning-a-view-versus-a-copy\n",
      "  \"\"\"Entry point for launching an IPython kernel.\n"
     ]
    }
   ],
   "source": [
    "train_data['asset_cost'][li]=train_data.drop(li)['asset_cost'].mean()"
   ]
  },
  {
   "cell_type": "code",
   "execution_count": 21,
   "metadata": {},
   "outputs": [
    {
     "data": {
      "text/plain": [
       "<matplotlib.collections.PathCollection at 0x5b2d0b0>"
      ]
     },
     "execution_count": 21,
     "metadata": {},
     "output_type": "execute_result"
    },
    {
     "data": {
      "image/png": "[encoded data removed]",
      "text/plain": [
       "<Figure size 432x288 with 1 Axes>"
      ]
     },
     "metadata": {},
     "output_type": "display_data"
    }
   ],
   "source": [
    "plt.scatter(train_data['asset_cost'].index,train_data['asset_cost'])"
   ]
  },
  {
   "cell_type": "code",
   "execution_count": 22,
   "metadata": {},
   "outputs": [
    {
     "data": {
      "text/plain": [
       "<matplotlib.collections.PathCollection at 0x5b67450>"
      ]
     },
     "execution_count": 22,
     "metadata": {},
     "output_type": "execute_result"
    },
    {
     "data": {
      "image/png": "[encoded data removed]",
      "text/plain": [
       "<Figure size 432x288 with 1 Axes>"
      ]
     },
     "metadata": {},
     "output_type": "display_data"
    }
   ],
   "source": [
    "plt.scatter(train_data['ltv'].index,train_data['ltv'])"
   ]
  },
  {
   "cell_type": "markdown",
   "metadata": {},
   "source": [
    "# we are dropping the below columns they do not have much importance with the output "
   ]
  },
  {
   "cell_type": "code",
   "execution_count": 23,
   "metadata": {},
   "outputs": [],
   "source": [
    "train_data.drop(['UniqueID','Current_pincode_ID','Date.of.Birth'],axis=1,inplace=True)"
   ]
  },
  {
   "cell_type": "code",
   "execution_count": 24,
   "metadata": {},
   "outputs": [
    {
     "name": "stdout",
     "output_type": "stream",
     "text": [
      "float64\n",
      "float64\n",
      "float64\n",
      "int64\n",
      "int64\n",
      "int64\n",
      "object\n",
      "object\n",
      "int64\n",
      "int64\n",
      "int64\n",
      "int64\n",
      "int64\n",
      "int64\n",
      "int64\n",
      "int64\n",
      "int64\n",
      "object\n",
      "int64\n",
      "int64\n",
      "int64\n",
      "int64\n",
      "int64\n",
      "int64\n",
      "int64\n",
      "int64\n",
      "int64\n",
      "int64\n",
      "int64\n",
      "int64\n",
      "int64\n",
      "int64\n",
      "int64\n",
      "int64\n",
      "object\n",
      "object\n",
      "int64\n",
      "int64\n"
     ]
    }
   ],
   "source": [
    "train_data.columns\n",
    "for i in train_data.columns:\n",
    "    print(train_data[i].dtype)"
   ]
  },
  {
   "cell_type": "code",
   "execution_count": 25,
   "metadata": {},
   "outputs": [],
   "source": [
    "train_data.drop(['PERFORM_CNS.SCORE.DESCRIPTION'], axis = 1, inplace = True)"
   ]
  },
  {
   "cell_type": "code",
   "execution_count": 26,
   "metadata": {},
   "outputs": [
    {
     "data": {
      "text/plain": [
       "0          0yrs 0mon\n",
       "1         1yrs 11mon\n",
       "2          0yrs 0mon\n",
       "3          0yrs 8mon\n",
       "4          0yrs 0mon\n",
       "             ...    \n",
       "233149     1yrs 9mon\n",
       "233150     0yrs 6mon\n",
       "233151     0yrs 0mon\n",
       "233152     0yrs 0mon\n",
       "233153     0yrs 0mon\n",
       "Name: AVERAGE.ACCT.AGE, Length: 233154, dtype: object"
      ]
     },
     "execution_count": 26,
     "metadata": {},
     "output_type": "execute_result"
    }
   ],
   "source": [
    "train_data['AVERAGE.ACCT.AGE']"
   ]
  },
  {
   "cell_type": "markdown",
   "metadata": {},
   "source": [
    "# using label encoder, it will make our data in numeric form or it will convert strings into numbers "
   ]
  },
  {
   "cell_type": "code",
   "execution_count": 27,
   "metadata": {},
   "outputs": [],
   "source": [
    "from sklearn import preprocessing\n",
    "\n",
    "encoder = preprocessing.LabelEncoder()\n",
    "#alphabetically\n",
    "\n",
    "for i in train_data.columns:\n",
    "    if isinstance(train_data[i][0], str):\n",
    "            train_data[i] = encoder.fit_transform(train_data[i])"
   ]
  },
  {
   "cell_type": "markdown",
   "metadata": {},
   "source": [
    "# below are thw columns correaltion strength is very low so we can drop it out "
   ]
  },
  {
   "cell_type": "code",
   "execution_count": 28,
   "metadata": {},
   "outputs": [],
   "source": [
    "train_data.drop(['branch_id','supplier_id','manufacturer_id',\n",
    "                     'Employment.Type','DisbursalDate','State_ID',\n",
    "                     'Employee_code_ID','NO.OF_INQUIRIES','SEC.INSTAL.AMT','NEW.ACCTS.IN.LAST.SIX.MONTHS'],axis=1,inplace=True)\n"
   ]
  },
  {
   "cell_type": "code",
   "execution_count": 29,
   "metadata": {
    "scrolled": true
   },
   "outputs": [
    {
     "data": {
      "text/html": [
       "<div>\n",
       "<style scoped>\n",
       "    .dataframe tbody tr th:only-of-type {\n",
       "        vertical-align: middle;\n",
       "    }\n",
       "\n",
       "    .dataframe tbody tr th {\n",
       "        vertical-align: top;\n",
       "    }\n",
       "\n",
       "    .dataframe thead th {\n",
       "        text-align: right;\n",
       "    }\n",
       "</style>\n",
       "<table border=\"1\" class=\"dataframe\">\n",
       "  <thead>\n",
       "    <tr style=\"text-align: right;\">\n",
       "      <th></th>\n",
       "      <th>disbursed_amount</th>\n",
       "      <th>asset_cost</th>\n",
       "      <th>ltv</th>\n",
       "      <th>MobileNo_Avl_Flag</th>\n",
       "      <th>Aadhar_flag</th>\n",
       "      <th>PAN_flag</th>\n",
       "      <th>VoterID_flag</th>\n",
       "      <th>Driving_flag</th>\n",
       "      <th>Passport_flag</th>\n",
       "      <th>PERFORM_CNS.SCORE</th>\n",
       "      <th>...</th>\n",
       "      <th>SEC.ACTIVE.ACCTS</th>\n",
       "      <th>SEC.OVERDUE.ACCTS</th>\n",
       "      <th>SEC.CURRENT.BALANCE</th>\n",
       "      <th>SEC.SANCTIONED.AMOUNT</th>\n",
       "      <th>SEC.DISBURSED.AMOUNT</th>\n",
       "      <th>PRIMARY.INSTAL.AMT</th>\n",
       "      <th>DELINQUENT.ACCTS.IN.LAST.SIX.MONTHS</th>\n",
       "      <th>AVERAGE.ACCT.AGE</th>\n",
       "      <th>CREDIT.HISTORY.LENGTH</th>\n",
       "      <th>loan_default</th>\n",
       "    </tr>\n",
       "  </thead>\n",
       "  <tbody>\n",
       "    <tr>\n",
       "      <td>0</td>\n",
       "      <td>50578.0</td>\n",
       "      <td>58400.0</td>\n",
       "      <td>89.55</td>\n",
       "      <td>1</td>\n",
       "      <td>1</td>\n",
       "      <td>0</td>\n",
       "      <td>0</td>\n",
       "      <td>0</td>\n",
       "      <td>0</td>\n",
       "      <td>0</td>\n",
       "      <td>...</td>\n",
       "      <td>0</td>\n",
       "      <td>0</td>\n",
       "      <td>0</td>\n",
       "      <td>0</td>\n",
       "      <td>0</td>\n",
       "      <td>0</td>\n",
       "      <td>0</td>\n",
       "      <td>0</td>\n",
       "      <td>0</td>\n",
       "      <td>0</td>\n",
       "    </tr>\n",
       "    <tr>\n",
       "      <td>1</td>\n",
       "      <td>47145.0</td>\n",
       "      <td>65550.0</td>\n",
       "      <td>73.23</td>\n",
       "      <td>1</td>\n",
       "      <td>1</td>\n",
       "      <td>0</td>\n",
       "      <td>0</td>\n",
       "      <td>0</td>\n",
       "      <td>0</td>\n",
       "      <td>598</td>\n",
       "      <td>...</td>\n",
       "      <td>0</td>\n",
       "      <td>0</td>\n",
       "      <td>0</td>\n",
       "      <td>0</td>\n",
       "      <td>0</td>\n",
       "      <td>1991</td>\n",
       "      <td>1</td>\n",
       "      <td>83</td>\n",
       "      <td>130</td>\n",
       "      <td>1</td>\n",
       "    </tr>\n",
       "    <tr>\n",
       "      <td>2</td>\n",
       "      <td>53278.0</td>\n",
       "      <td>61360.0</td>\n",
       "      <td>89.63</td>\n",
       "      <td>1</td>\n",
       "      <td>1</td>\n",
       "      <td>0</td>\n",
       "      <td>0</td>\n",
       "      <td>0</td>\n",
       "      <td>0</td>\n",
       "      <td>0</td>\n",
       "      <td>...</td>\n",
       "      <td>0</td>\n",
       "      <td>0</td>\n",
       "      <td>0</td>\n",
       "      <td>0</td>\n",
       "      <td>0</td>\n",
       "      <td>0</td>\n",
       "      <td>0</td>\n",
       "      <td>0</td>\n",
       "      <td>0</td>\n",
       "      <td>0</td>\n",
       "    </tr>\n",
       "    <tr>\n",
       "      <td>3</td>\n",
       "      <td>57513.0</td>\n",
       "      <td>66113.0</td>\n",
       "      <td>88.48</td>\n",
       "      <td>1</td>\n",
       "      <td>1</td>\n",
       "      <td>0</td>\n",
       "      <td>0</td>\n",
       "      <td>0</td>\n",
       "      <td>0</td>\n",
       "      <td>305</td>\n",
       "      <td>...</td>\n",
       "      <td>0</td>\n",
       "      <td>0</td>\n",
       "      <td>0</td>\n",
       "      <td>0</td>\n",
       "      <td>0</td>\n",
       "      <td>31</td>\n",
       "      <td>0</td>\n",
       "      <td>10</td>\n",
       "      <td>133</td>\n",
       "      <td>1</td>\n",
       "    </tr>\n",
       "    <tr>\n",
       "      <td>4</td>\n",
       "      <td>52378.0</td>\n",
       "      <td>60300.0</td>\n",
       "      <td>88.39</td>\n",
       "      <td>1</td>\n",
       "      <td>1</td>\n",
       "      <td>0</td>\n",
       "      <td>0</td>\n",
       "      <td>0</td>\n",
       "      <td>0</td>\n",
       "      <td>0</td>\n",
       "      <td>...</td>\n",
       "      <td>0</td>\n",
       "      <td>0</td>\n",
       "      <td>0</td>\n",
       "      <td>0</td>\n",
       "      <td>0</td>\n",
       "      <td>0</td>\n",
       "      <td>0</td>\n",
       "      <td>0</td>\n",
       "      <td>0</td>\n",
       "      <td>1</td>\n",
       "    </tr>\n",
       "  </tbody>\n",
       "</table>\n",
       "<p>5 rows × 27 columns</p>\n",
       "</div>"
      ],
      "text/plain": [
       "   disbursed_amount  asset_cost    ltv  MobileNo_Avl_Flag  Aadhar_flag  \\\n",
       "0           50578.0     58400.0  89.55                  1            1   \n",
       "1           47145.0     65550.0  73.23                  1            1   \n",
       "2           53278.0     61360.0  89.63                  1            1   \n",
       "3           57513.0     66113.0  88.48                  1            1   \n",
       "4           52378.0     60300.0  88.39                  1            1   \n",
       "\n",
       "   PAN_flag  VoterID_flag  Driving_flag  Passport_flag  PERFORM_CNS.SCORE  \\\n",
       "0         0             0             0              0                  0   \n",
       "1         0             0             0              0                598   \n",
       "2         0             0             0              0                  0   \n",
       "3         0             0             0              0                305   \n",
       "4         0             0             0              0                  0   \n",
       "\n",
       "   ...  SEC.ACTIVE.ACCTS  SEC.OVERDUE.ACCTS  SEC.CURRENT.BALANCE  \\\n",
       "0  ...                 0                  0                    0   \n",
       "1  ...                 0                  0                    0   \n",
       "2  ...                 0                  0                    0   \n",
       "3  ...                 0                  0                    0   \n",
       "4  ...                 0                  0                    0   \n",
       "\n",
       "   SEC.SANCTIONED.AMOUNT  SEC.DISBURSED.AMOUNT  PRIMARY.INSTAL.AMT  \\\n",
       "0                      0                     0                   0   \n",
       "1                      0                     0                1991   \n",
       "2                      0                     0                   0   \n",
       "3                      0                     0                  31   \n",
       "4                      0                     0                   0   \n",
       "\n",
       "   DELINQUENT.ACCTS.IN.LAST.SIX.MONTHS  AVERAGE.ACCT.AGE  \\\n",
       "0                                    0                 0   \n",
       "1                                    1                83   \n",
       "2                                    0                 0   \n",
       "3                                    0                10   \n",
       "4                                    0                 0   \n",
       "\n",
       "   CREDIT.HISTORY.LENGTH  loan_default  \n",
       "0                      0             0  \n",
       "1                    130             1  \n",
       "2                      0             0  \n",
       "3                    133             1  \n",
       "4                      0             1  \n",
       "\n",
       "[5 rows x 27 columns]"
      ]
     },
     "execution_count": 29,
     "metadata": {},
     "output_type": "execute_result"
    }
   ],
   "source": [
    "train_data.head()"
   ]
  },
  {
   "cell_type": "markdown",
   "metadata": {},
   "source": [
    "# Spllitting data into X and y"
   ]
  },
  {
   "cell_type": "code",
   "execution_count": 30,
   "metadata": {},
   "outputs": [],
   "source": [
    "X=train_data.drop('loan_default',axis=1)\n",
    "y=train_data['loan_default']"
   ]
  },
  {
   "cell_type": "markdown",
   "metadata": {},
   "source": [
    "# checking multicollinearity(VIF) in inputs"
   ]
  },
  {
   "cell_type": "code",
   "execution_count": 31,
   "metadata": {},
   "outputs": [
    {
     "name": "stderr",
     "output_type": "stream",
     "text": [
      "C:\\ProgramData\\Anaconda3\\lib\\site-packages\\numpy\\core\\fromnumeric.py:2389: FutureWarning: Method .ptp is deprecated and will be removed in a future version. Use numpy.ptp instead.\n",
      "  return ptp(axis=axis, out=out, **kwargs)\n"
     ]
    },
    {
     "data": {
      "text/plain": [
       "disbursed_amount                          1.477913\n",
       "asset_cost                                1.262810\n",
       "ltv                                       1.351231\n",
       "MobileNo_Avl_Flag                       233.860140\n",
       "Aadhar_flag                               7.947762\n",
       "PAN_flag                                  1.056286\n",
       "VoterID_flag                              7.135251\n",
       "Driving_flag                              1.845035\n",
       "Passport_flag                             1.080449\n",
       "PERFORM_CNS.SCORE                         1.913918\n",
       "PRI.NO.OF.ACCTS                           2.584510\n",
       "PRI.ACTIVE.ACCTS                          2.924590\n",
       "PRI.OVERDUE.ACCTS                         1.534821\n",
       "PRI.CURRENT.BALANCE                       1.539606\n",
       "PRI.SANCTIONED.AMOUNT                   406.944129\n",
       "PRI.DISBURSED.AMOUNT                    409.554677\n",
       "SEC.NO.OF.ACCTS                           3.285786\n",
       "SEC.ACTIVE.ACCTS                          3.782981\n",
       "SEC.OVERDUE.ACCTS                         1.425165\n",
       "SEC.CURRENT.BALANCE                       7.603271\n",
       "SEC.SANCTIONED.AMOUNT                  1544.888888\n",
       "SEC.DISBURSED.AMOUNT                   1540.455404\n",
       "PRIMARY.INSTAL.AMT                        1.089550\n",
       "DELINQUENT.ACCTS.IN.LAST.SIX.MONTHS       1.398518\n",
       "AVERAGE.ACCT.AGE                          3.555274\n",
       "CREDIT.HISTORY.LENGTH                     4.479489\n",
       "dtype: float64"
      ]
     },
     "execution_count": 31,
     "metadata": {},
     "output_type": "execute_result"
    }
   ],
   "source": [
    "from statsmodels.stats.outliers_influence import variance_inflation_factor\n",
    "from statsmodels.tools.tools import add_constant\n",
    "X_vif = add_constant(X)\n",
    "pd.Series([variance_inflation_factor(X_vif.values,i) for i in range(X_vif.shape[1])], index=X_vif.columns)\n"
   ]
  },
  {
   "cell_type": "markdown",
   "metadata": {},
   "source": [
    "# FEATURE SELECTION PROCESS"
   ]
  },
  {
   "cell_type": "markdown",
   "metadata": {},
   "source": [
    "# checking the relationship of inputs(categorical) to the output(categorical) applying CHI-SQUARE test."
   ]
  },
  {
   "cell_type": "code",
   "execution_count": 32,
   "metadata": {},
   "outputs": [
    {
     "data": {
      "text/plain": [
       "MobileNo_Avl_Flag                        0.000000\n",
       "PRI.DISBURSED.AMOUNT                     0.000000\n",
       "PRI.SANCTIONED.AMOUNT                    0.000000\n",
       "PRI.CURRENT.BALANCE                      0.000000\n",
       "SEC.DISBURSED.AMOUNT                     0.000111\n",
       "SEC.SANCTIONED.AMOUNT                    0.000178\n",
       "SEC.CURRENT.BALANCE                      0.009151\n",
       "SEC.OVERDUE.ACCTS                       41.938997\n",
       "PAN_flag                                67.222566\n",
       "SEC.NO.OF.ACCTS                         94.081591\n",
       "SEC.ACTIVE.ACCTS                        97.157867\n",
       "Driving_flag                            99.479871\n",
       "Passport_flag                           99.970120\n",
       "PRI.NO.OF.ACCTS                        100.000000\n",
       "PRI.ACTIVE.ACCTS                       100.000000\n",
       "PRI.OVERDUE.ACCTS                      100.000000\n",
       "Aadhar_flag                            100.000000\n",
       "VoterID_flag                           100.000000\n",
       "DELINQUENT.ACCTS.IN.LAST.SIX.MONTHS    100.000000\n",
       "dtype: float64"
      ]
     },
     "execution_count": 32,
     "metadata": {},
     "output_type": "execute_result"
    }
   ],
   "source": [
    "col=X.columns\n",
    "col=col.drop(['disbursed_amount','asset_cost','ltv','PERFORM_CNS.SCORE','PRIMARY.INSTAL.AMT',\n",
    "          'CREDIT.HISTORY.LENGTH','AVERAGE.ACCT.AGE'])\n",
    "\n",
    "import scipy.stats as stats\n",
    "from scipy.stats import chi2_contingency\n",
    "\n",
    "Significance = pd.Series()\n",
    "\n",
    "for i in col:\n",
    "    dfObserved = pd.crosstab(X[i],y)\n",
    "    chi2, p, dof, expected = stats.chi2_contingency(dfObserved.values)\n",
    "    Significance[i] = (1-p)*100\n",
    "\n",
    "Significance.sort_values()"
   ]
  },
  {
   "cell_type": "markdown",
   "metadata": {},
   "source": [
    "# below code shows the columns(continous) howmuch they are reated with the target(categorical) "
   ]
  },
  {
   "cell_type": "code",
   "execution_count": 33,
   "metadata": {},
   "outputs": [
    {
     "data": {
      "text/plain": [
       "disbursed_amount           (4589992.09998681, 0.0)\n",
       "asset_cost                (22918253.85872454, 0.0)\n",
       "ltv                       (9854228.400645033, 0.0)\n",
       "PERFORM_CNS.SCORE          (170365.145670287, 0.0)\n",
       "PRIMARY.INSTAL.AMT       (1747.6999069086194, 0.0)\n",
       "CREDIT.HISTORY.LENGTH    (121324.46461421307, 0.0)\n",
       "AVERAGE.ACCT.AGE          (95937.30609937855, 0.0)\n",
       "dtype: object"
      ]
     },
     "execution_count": 33,
     "metadata": {},
     "output_type": "execute_result"
    }
   ],
   "source": [
    "colm=['disbursed_amount','asset_cost','ltv','PERFORM_CNS.SCORE','PRIMARY.INSTAL.AMT',\n",
    "          'CREDIT.HISTORY.LENGTH','AVERAGE.ACCT.AGE']\n",
    "from scipy import stats\n",
    "pd.Series([stats.f_oneway(X[i],y)for i in colm],index=colm)"
   ]
  },
  {
   "cell_type": "markdown",
   "metadata": {},
   "source": [
    "# importing train_test_split, logistic regression"
   ]
  },
  {
   "cell_type": "code",
   "execution_count": 34,
   "metadata": {},
   "outputs": [],
   "source": [
    "from sklearn.model_selection import train_test_split\n",
    "from sklearn.linear_model import LogisticRegression\n",
    "X_train,X_test,y_train,y_test=train_test_split(X,y,test_size=.7)"
   ]
  },
  {
   "cell_type": "code",
   "execution_count": 35,
   "metadata": {},
   "outputs": [
    {
     "name": "stderr",
     "output_type": "stream",
     "text": [
      "C:\\ProgramData\\Anaconda3\\lib\\site-packages\\sklearn\\linear_model\\logistic.py:432: FutureWarning: Default solver will be changed to 'lbfgs' in 0.22. Specify a solver to silence this warning.\n",
      "  FutureWarning)\n"
     ]
    },
    {
     "data": {
      "text/plain": [
       "LogisticRegression(C=1.0, class_weight=None, dual=False, fit_intercept=True,\n",
       "                   intercept_scaling=1, l1_ratio=None, max_iter=100,\n",
       "                   multi_class='warn', n_jobs=None, penalty='l2',\n",
       "                   random_state=None, solver='warn', tol=0.0001, verbose=0,\n",
       "                   warm_start=False)"
      ]
     },
     "execution_count": 35,
     "metadata": {},
     "output_type": "execute_result"
    }
   ],
   "source": [
    "log= LogisticRegression()\n",
    "log.fit(X_train, y_train)"
   ]
  },
  {
   "cell_type": "code",
   "execution_count": 36,
   "metadata": {},
   "outputs": [
    {
     "data": {
      "text/plain": [
       "78.27895805335544"
      ]
     },
     "execution_count": 36,
     "metadata": {},
     "output_type": "execute_result"
    }
   ],
   "source": [
    "log.score(X_train, y_train)*100"
   ]
  },
  {
   "cell_type": "code",
   "execution_count": 37,
   "metadata": {},
   "outputs": [
    {
     "data": {
      "text/plain": [
       "78.29089260330376"
      ]
     },
     "execution_count": 37,
     "metadata": {},
     "output_type": "execute_result"
    }
   ],
   "source": [
    "log.score(X_test,y_test)*100"
   ]
  },
  {
   "cell_type": "markdown",
   "metadata": {},
   "source": [
    "# loading the test_data"
   ]
  },
  {
   "cell_type": "code",
   "execution_count": 38,
   "metadata": {},
   "outputs": [],
   "source": [
    "test_data=pd.read_csv('C:/Users/91977/Desktop/Credit loan/Loan Default Test Data.csv')"
   ]
  },
  {
   "cell_type": "markdown",
   "metadata": {},
   "source": [
    "# lets have the shape of the data"
   ]
  },
  {
   "cell_type": "code",
   "execution_count": 39,
   "metadata": {},
   "outputs": [
    {
     "data": {
      "text/plain": [
       "(112392, 40)"
      ]
     },
     "execution_count": 39,
     "metadata": {},
     "output_type": "execute_result"
    }
   ],
   "source": [
    "test_data.shape"
   ]
  },
  {
   "cell_type": "markdown",
   "metadata": {},
   "source": [
    "# here is the column named Employment.Type which has the missing values"
   ]
  },
  {
   "cell_type": "code",
   "execution_count": 40,
   "metadata": {},
   "outputs": [
    {
     "data": {
      "text/plain": [
       "UniqueID                                  0\n",
       "disbursed_amount                          0\n",
       "asset_cost                                0\n",
       "ltv                                       0\n",
       "branch_id                                 0\n",
       "supplier_id                               0\n",
       "manufacturer_id                           0\n",
       "Current_pincode_ID                        0\n",
       "Date.of.Birth                             0\n",
       "Employment.Type                        3443\n",
       "DisbursalDate                             0\n",
       "State_ID                                  0\n",
       "Employee_code_ID                          0\n",
       "MobileNo_Avl_Flag                         0\n",
       "Aadhar_flag                               0\n",
       "PAN_flag                                  0\n",
       "VoterID_flag                              0\n",
       "Driving_flag                              0\n",
       "Passport_flag                             0\n",
       "PERFORM_CNS.SCORE                         0\n",
       "PERFORM_CNS.SCORE.DESCRIPTION             0\n",
       "PRI.NO.OF.ACCTS                           0\n",
       "PRI.ACTIVE.ACCTS                          0\n",
       "PRI.OVERDUE.ACCTS                         0\n",
       "PRI.CURRENT.BALANCE                       0\n",
       "PRI.SANCTIONED.AMOUNT                     0\n",
       "PRI.DISBURSED.AMOUNT                      0\n",
       "SEC.NO.OF.ACCTS                           0\n",
       "SEC.ACTIVE.ACCTS                          0\n",
       "SEC.OVERDUE.ACCTS                         0\n",
       "SEC.CURRENT.BALANCE                       0\n",
       "SEC.SANCTIONED.AMOUNT                     0\n",
       "SEC.DISBURSED.AMOUNT                      0\n",
       "PRIMARY.INSTAL.AMT                        0\n",
       "SEC.INSTAL.AMT                            0\n",
       "NEW.ACCTS.IN.LAST.SIX.MONTHS              0\n",
       "DELINQUENT.ACCTS.IN.LAST.SIX.MONTHS       0\n",
       "AVERAGE.ACCT.AGE                          0\n",
       "CREDIT.HISTORY.LENGTH                     0\n",
       "NO.OF_INQUIRIES                           0\n",
       "dtype: int64"
      ]
     },
     "execution_count": 40,
     "metadata": {},
     "output_type": "execute_result"
    }
   ],
   "source": [
    "test_data.isnull().sum()"
   ]
  },
  {
   "cell_type": "code",
   "execution_count": 41,
   "metadata": {},
   "outputs": [
    {
     "data": {
      "text/plain": [
       "Self employed    59794\n",
       "Salaried         49155\n",
       "Name: Employment.Type, dtype: int64"
      ]
     },
     "execution_count": 41,
     "metadata": {},
     "output_type": "execute_result"
    }
   ],
   "source": [
    "test_data['Employment.Type'].value_counts()"
   ]
  },
  {
   "cell_type": "markdown",
   "metadata": {},
   "source": [
    "# In below code the NAN values are treated by filling the Salaried label in it."
   ]
  },
  {
   "cell_type": "code",
   "execution_count": 42,
   "metadata": {},
   "outputs": [],
   "source": [
    "test_data['Employment.Type'].fillna('Self employed',inplace=True)"
   ]
  },
  {
   "cell_type": "markdown",
   "metadata": {},
   "source": [
    "# lets check for outliers"
   ]
  },
  {
   "cell_type": "code",
   "execution_count": 43,
   "metadata": {},
   "outputs": [
    {
     "data": {
      "text/plain": [
       "<matplotlib.collections.PathCollection at 0x5bc43f0>"
      ]
     },
     "execution_count": 43,
     "metadata": {},
     "output_type": "execute_result"
    },
    {
     "data": {
      "image/png": "[encoded data removed]",
      "text/plain": [
       "<Figure size 432x288 with 1 Axes>"
      ]
     },
     "metadata": {},
     "output_type": "display_data"
    }
   ],
   "source": [
    "import matplotlib.pyplot as plt\n",
    "plt.scatter(train_data['disbursed_amount'].index,train_data['disbursed_amount'])"
   ]
  },
  {
   "cell_type": "code",
   "execution_count": 44,
   "metadata": {},
   "outputs": [],
   "source": [
    "from scipy import stats\n",
    "import numpy as np\n",
    "li=list(train_data['disbursed_amount'][np.abs(stats.zscore(train_data['disbursed_amount']))>5].index)"
   ]
  },
  {
   "cell_type": "code",
   "execution_count": 45,
   "metadata": {
    "scrolled": true
   },
   "outputs": [
    {
     "name": "stderr",
     "output_type": "stream",
     "text": [
      "C:\\ProgramData\\Anaconda3\\lib\\site-packages\\ipykernel_launcher.py:1: SettingWithCopyWarning: \n",
      "A value is trying to be set on a copy of a slice from a DataFrame\n",
      "\n",
      "See the caveats in the documentation: http://pandas.pydata.org/pandas-docs/stable/user_guide/indexing.html#returning-a-view-versus-a-copy\n",
      "  \"\"\"Entry point for launching an IPython kernel.\n"
     ]
    }
   ],
   "source": [
    "train_data['disbursed_amount'][li]=train_data.drop(li)['disbursed_amount'].mean()"
   ]
  },
  {
   "cell_type": "markdown",
   "metadata": {},
   "source": [
    "# the outliers are treated as same as above in train_data"
   ]
  },
  {
   "cell_type": "code",
   "execution_count": 46,
   "metadata": {},
   "outputs": [
    {
     "data": {
      "text/plain": [
       "<matplotlib.collections.PathCollection at 0x5af5f70>"
      ]
     },
     "execution_count": 46,
     "metadata": {},
     "output_type": "execute_result"
    },
    {
     "data": {
      "image/png": "[encoded data removed]",
      "text/plain": [
       "<Figure size 432x288 with 1 Axes>"
      ]
     },
     "metadata": {},
     "output_type": "display_data"
    }
   ],
   "source": [
    "plt.scatter(train_data['disbursed_amount'].index,train_data['disbursed_amount'])"
   ]
  },
  {
   "cell_type": "markdown",
   "metadata": {},
   "source": [
    "# checking outliers in another column "
   ]
  },
  {
   "cell_type": "code",
   "execution_count": 47,
   "metadata": {},
   "outputs": [
    {
     "data": {
      "text/plain": [
       "<matplotlib.collections.PathCollection at 0x5a99b50>"
      ]
     },
     "execution_count": 47,
     "metadata": {},
     "output_type": "execute_result"
    },
    {
     "data": {
      "image/png": "[encoded data removed]",
      "text/plain": [
       "<Figure size 432x288 with 1 Axes>"
      ]
     },
     "metadata": {},
     "output_type": "display_data"
    }
   ],
   "source": [
    "plt.scatter(train_data['asset_cost'].index,train_data['asset_cost'])"
   ]
  },
  {
   "cell_type": "code",
   "execution_count": 48,
   "metadata": {},
   "outputs": [],
   "source": [
    "li=list(train_data['asset_cost'][np.abs(stats.zscore(train_data['asset_cost']))>1].index)"
   ]
  },
  {
   "cell_type": "code",
   "execution_count": 49,
   "metadata": {},
   "outputs": [
    {
     "name": "stderr",
     "output_type": "stream",
     "text": [
      "C:\\ProgramData\\Anaconda3\\lib\\site-packages\\ipykernel_launcher.py:1: SettingWithCopyWarning: \n",
      "A value is trying to be set on a copy of a slice from a DataFrame\n",
      "\n",
      "See the caveats in the documentation: http://pandas.pydata.org/pandas-docs/stable/user_guide/indexing.html#returning-a-view-versus-a-copy\n",
      "  \"\"\"Entry point for launching an IPython kernel.\n"
     ]
    }
   ],
   "source": [
    "train_data['asset_cost'][li]=train_data.drop(li)['asset_cost'].mean()"
   ]
  },
  {
   "cell_type": "markdown",
   "metadata": {},
   "source": [
    "# again checking outliers in another continous column"
   ]
  },
  {
   "cell_type": "code",
   "execution_count": 50,
   "metadata": {},
   "outputs": [
    {
     "data": {
      "text/plain": [
       "<matplotlib.collections.PathCollection at 0x16f96e90>"
      ]
     },
     "execution_count": 50,
     "metadata": {},
     "output_type": "execute_result"
    },
    {
     "data": {
      "image/png": "[encoded data removed]",
      "text/plain": [
       "<Figure size 432x288 with 1 Axes>"
      ]
     },
     "metadata": {},
     "output_type": "display_data"
    }
   ],
   "source": [
    "plt.scatter(train_data['ltv'].index,train_data['ltv'])"
   ]
  },
  {
   "cell_type": "markdown",
   "metadata": {},
   "source": [
    "# dropping the below columns from data as they are not so much important for the output"
   ]
  },
  {
   "cell_type": "code",
   "execution_count": 51,
   "metadata": {},
   "outputs": [],
   "source": [
    "test_data.drop(['UniqueID','Current_pincode_ID','Date.of.Birth'],axis=1,inplace=True)"
   ]
  },
  {
   "cell_type": "markdown",
   "metadata": {},
   "source": [
    "# Label Encoder for preprocessing data"
   ]
  },
  {
   "cell_type": "code",
   "execution_count": 52,
   "metadata": {},
   "outputs": [],
   "source": [
    "from sklearn import preprocessing\n",
    "\n",
    "encoder = preprocessing.LabelEncoder()\n",
    "#alphabetically\n",
    "\n",
    "for i in test_data.columns:\n",
    "    if isinstance(test_data[i][0], str):\n",
    "            test_data[i] = encoder.fit_transform(test_data[i])"
   ]
  },
  {
   "cell_type": "markdown",
   "metadata": {},
   "source": [
    "# feature selection by dropping these columns"
   ]
  },
  {
   "cell_type": "code",
   "execution_count": 53,
   "metadata": {},
   "outputs": [],
   "source": [
    "test_data.drop(['branch_id','supplier_id','manufacturer_id',\n",
    "                     'Employment.Type','DisbursalDate','State_ID',\n",
    "                     'Employee_code_ID','NO.OF_INQUIRIES','SEC.INSTAL.AMT',\n",
    "                'NEW.ACCTS.IN.LAST.SIX.MONTHS','CREDIT.HISTORY.LENGTH'],axis=1,inplace=True)"
   ]
  },
  {
   "cell_type": "code",
   "execution_count": 54,
   "metadata": {},
   "outputs": [
    {
     "data": {
      "text/html": [
       "<div>\n",
       "<style scoped>\n",
       "    .dataframe tbody tr th:only-of-type {\n",
       "        vertical-align: middle;\n",
       "    }\n",
       "\n",
       "    .dataframe tbody tr th {\n",
       "        vertical-align: top;\n",
       "    }\n",
       "\n",
       "    .dataframe thead th {\n",
       "        text-align: right;\n",
       "    }\n",
       "</style>\n",
       "<table border=\"1\" class=\"dataframe\">\n",
       "  <thead>\n",
       "    <tr style=\"text-align: right;\">\n",
       "      <th></th>\n",
       "      <th>disbursed_amount</th>\n",
       "      <th>asset_cost</th>\n",
       "      <th>ltv</th>\n",
       "      <th>MobileNo_Avl_Flag</th>\n",
       "      <th>Aadhar_flag</th>\n",
       "      <th>PAN_flag</th>\n",
       "      <th>VoterID_flag</th>\n",
       "      <th>Driving_flag</th>\n",
       "      <th>Passport_flag</th>\n",
       "      <th>PERFORM_CNS.SCORE</th>\n",
       "      <th>...</th>\n",
       "      <th>PRI.DISBURSED.AMOUNT</th>\n",
       "      <th>SEC.NO.OF.ACCTS</th>\n",
       "      <th>SEC.ACTIVE.ACCTS</th>\n",
       "      <th>SEC.OVERDUE.ACCTS</th>\n",
       "      <th>SEC.CURRENT.BALANCE</th>\n",
       "      <th>SEC.SANCTIONED.AMOUNT</th>\n",
       "      <th>SEC.DISBURSED.AMOUNT</th>\n",
       "      <th>PRIMARY.INSTAL.AMT</th>\n",
       "      <th>DELINQUENT.ACCTS.IN.LAST.SIX.MONTHS</th>\n",
       "      <th>AVERAGE.ACCT.AGE</th>\n",
       "    </tr>\n",
       "  </thead>\n",
       "  <tbody>\n",
       "    <tr>\n",
       "      <td>0</td>\n",
       "      <td>53478</td>\n",
       "      <td>63558</td>\n",
       "      <td>86.54</td>\n",
       "      <td>1</td>\n",
       "      <td>1</td>\n",
       "      <td>0</td>\n",
       "      <td>0</td>\n",
       "      <td>0</td>\n",
       "      <td>0</td>\n",
       "      <td>0</td>\n",
       "      <td>...</td>\n",
       "      <td>0</td>\n",
       "      <td>0</td>\n",
       "      <td>0</td>\n",
       "      <td>0</td>\n",
       "      <td>0</td>\n",
       "      <td>0</td>\n",
       "      <td>0</td>\n",
       "      <td>0</td>\n",
       "      <td>0</td>\n",
       "      <td>0</td>\n",
       "    </tr>\n",
       "    <tr>\n",
       "      <td>1</td>\n",
       "      <td>55513</td>\n",
       "      <td>63163</td>\n",
       "      <td>89.45</td>\n",
       "      <td>1</td>\n",
       "      <td>1</td>\n",
       "      <td>0</td>\n",
       "      <td>0</td>\n",
       "      <td>0</td>\n",
       "      <td>0</td>\n",
       "      <td>749</td>\n",
       "      <td>...</td>\n",
       "      <td>48780</td>\n",
       "      <td>0</td>\n",
       "      <td>0</td>\n",
       "      <td>0</td>\n",
       "      <td>0</td>\n",
       "      <td>0</td>\n",
       "      <td>0</td>\n",
       "      <td>5605</td>\n",
       "      <td>0</td>\n",
       "      <td>10</td>\n",
       "    </tr>\n",
       "    <tr>\n",
       "      <td>2</td>\n",
       "      <td>65282</td>\n",
       "      <td>84320</td>\n",
       "      <td>79.93</td>\n",
       "      <td>1</td>\n",
       "      <td>1</td>\n",
       "      <td>1</td>\n",
       "      <td>0</td>\n",
       "      <td>0</td>\n",
       "      <td>0</td>\n",
       "      <td>0</td>\n",
       "      <td>...</td>\n",
       "      <td>0</td>\n",
       "      <td>0</td>\n",
       "      <td>0</td>\n",
       "      <td>0</td>\n",
       "      <td>0</td>\n",
       "      <td>0</td>\n",
       "      <td>0</td>\n",
       "      <td>0</td>\n",
       "      <td>0</td>\n",
       "      <td>0</td>\n",
       "    </tr>\n",
       "    <tr>\n",
       "      <td>3</td>\n",
       "      <td>46905</td>\n",
       "      <td>63896</td>\n",
       "      <td>76.58</td>\n",
       "      <td>1</td>\n",
       "      <td>1</td>\n",
       "      <td>0</td>\n",
       "      <td>0</td>\n",
       "      <td>0</td>\n",
       "      <td>0</td>\n",
       "      <td>14</td>\n",
       "      <td>...</td>\n",
       "      <td>255000</td>\n",
       "      <td>0</td>\n",
       "      <td>0</td>\n",
       "      <td>0</td>\n",
       "      <td>0</td>\n",
       "      <td>0</td>\n",
       "      <td>0</td>\n",
       "      <td>0</td>\n",
       "      <td>0</td>\n",
       "      <td>87</td>\n",
       "    </tr>\n",
       "    <tr>\n",
       "      <td>4</td>\n",
       "      <td>51428</td>\n",
       "      <td>63896</td>\n",
       "      <td>86.08</td>\n",
       "      <td>1</td>\n",
       "      <td>1</td>\n",
       "      <td>0</td>\n",
       "      <td>0</td>\n",
       "      <td>0</td>\n",
       "      <td>0</td>\n",
       "      <td>0</td>\n",
       "      <td>...</td>\n",
       "      <td>0</td>\n",
       "      <td>0</td>\n",
       "      <td>0</td>\n",
       "      <td>0</td>\n",
       "      <td>0</td>\n",
       "      <td>0</td>\n",
       "      <td>0</td>\n",
       "      <td>0</td>\n",
       "      <td>0</td>\n",
       "      <td>0</td>\n",
       "    </tr>\n",
       "    <tr>\n",
       "      <td>...</td>\n",
       "      <td>...</td>\n",
       "      <td>...</td>\n",
       "      <td>...</td>\n",
       "      <td>...</td>\n",
       "      <td>...</td>\n",
       "      <td>...</td>\n",
       "      <td>...</td>\n",
       "      <td>...</td>\n",
       "      <td>...</td>\n",
       "      <td>...</td>\n",
       "      <td>...</td>\n",
       "      <td>...</td>\n",
       "      <td>...</td>\n",
       "      <td>...</td>\n",
       "      <td>...</td>\n",
       "      <td>...</td>\n",
       "      <td>...</td>\n",
       "      <td>...</td>\n",
       "      <td>...</td>\n",
       "      <td>...</td>\n",
       "      <td>...</td>\n",
       "    </tr>\n",
       "    <tr>\n",
       "      <td>112387</td>\n",
       "      <td>44875</td>\n",
       "      <td>72509</td>\n",
       "      <td>67.58</td>\n",
       "      <td>1</td>\n",
       "      <td>1</td>\n",
       "      <td>0</td>\n",
       "      <td>0</td>\n",
       "      <td>0</td>\n",
       "      <td>0</td>\n",
       "      <td>0</td>\n",
       "      <td>...</td>\n",
       "      <td>0</td>\n",
       "      <td>0</td>\n",
       "      <td>0</td>\n",
       "      <td>0</td>\n",
       "      <td>0</td>\n",
       "      <td>0</td>\n",
       "      <td>0</td>\n",
       "      <td>0</td>\n",
       "      <td>0</td>\n",
       "      <td>0</td>\n",
       "    </tr>\n",
       "    <tr>\n",
       "      <td>112388</td>\n",
       "      <td>53549</td>\n",
       "      <td>72509</td>\n",
       "      <td>78.61</td>\n",
       "      <td>1</td>\n",
       "      <td>1</td>\n",
       "      <td>0</td>\n",
       "      <td>0</td>\n",
       "      <td>0</td>\n",
       "      <td>0</td>\n",
       "      <td>0</td>\n",
       "      <td>...</td>\n",
       "      <td>0</td>\n",
       "      <td>0</td>\n",
       "      <td>0</td>\n",
       "      <td>0</td>\n",
       "      <td>0</td>\n",
       "      <td>0</td>\n",
       "      <td>0</td>\n",
       "      <td>0</td>\n",
       "      <td>0</td>\n",
       "      <td>0</td>\n",
       "    </tr>\n",
       "    <tr>\n",
       "      <td>112389</td>\n",
       "      <td>55243</td>\n",
       "      <td>72509</td>\n",
       "      <td>81.37</td>\n",
       "      <td>1</td>\n",
       "      <td>1</td>\n",
       "      <td>0</td>\n",
       "      <td>0</td>\n",
       "      <td>0</td>\n",
       "      <td>0</td>\n",
       "      <td>785</td>\n",
       "      <td>...</td>\n",
       "      <td>0</td>\n",
       "      <td>0</td>\n",
       "      <td>0</td>\n",
       "      <td>0</td>\n",
       "      <td>0</td>\n",
       "      <td>0</td>\n",
       "      <td>0</td>\n",
       "      <td>0</td>\n",
       "      <td>0</td>\n",
       "      <td>105</td>\n",
       "    </tr>\n",
       "    <tr>\n",
       "      <td>112390</td>\n",
       "      <td>55243</td>\n",
       "      <td>72509</td>\n",
       "      <td>81.37</td>\n",
       "      <td>1</td>\n",
       "      <td>1</td>\n",
       "      <td>0</td>\n",
       "      <td>0</td>\n",
       "      <td>0</td>\n",
       "      <td>0</td>\n",
       "      <td>714</td>\n",
       "      <td>...</td>\n",
       "      <td>100000</td>\n",
       "      <td>0</td>\n",
       "      <td>0</td>\n",
       "      <td>0</td>\n",
       "      <td>0</td>\n",
       "      <td>0</td>\n",
       "      <td>0</td>\n",
       "      <td>0</td>\n",
       "      <td>1</td>\n",
       "      <td>5</td>\n",
       "    </tr>\n",
       "    <tr>\n",
       "      <td>112391</td>\n",
       "      <td>40274</td>\n",
       "      <td>72509</td>\n",
       "      <td>60.68</td>\n",
       "      <td>1</td>\n",
       "      <td>1</td>\n",
       "      <td>1</td>\n",
       "      <td>0</td>\n",
       "      <td>0</td>\n",
       "      <td>0</td>\n",
       "      <td>0</td>\n",
       "      <td>...</td>\n",
       "      <td>0</td>\n",
       "      <td>0</td>\n",
       "      <td>0</td>\n",
       "      <td>0</td>\n",
       "      <td>0</td>\n",
       "      <td>0</td>\n",
       "      <td>0</td>\n",
       "      <td>0</td>\n",
       "      <td>0</td>\n",
       "      <td>0</td>\n",
       "    </tr>\n",
       "  </tbody>\n",
       "</table>\n",
       "<p>112392 rows × 26 columns</p>\n",
       "</div>"
      ],
      "text/plain": [
       "        disbursed_amount  asset_cost    ltv  MobileNo_Avl_Flag  Aadhar_flag  \\\n",
       "0                  53478       63558  86.54                  1            1   \n",
       "1                  55513       63163  89.45                  1            1   \n",
       "2                  65282       84320  79.93                  1            1   \n",
       "3                  46905       63896  76.58                  1            1   \n",
       "4                  51428       63896  86.08                  1            1   \n",
       "...                  ...         ...    ...                ...          ...   \n",
       "112387             44875       72509  67.58                  1            1   \n",
       "112388             53549       72509  78.61                  1            1   \n",
       "112389             55243       72509  81.37                  1            1   \n",
       "112390             55243       72509  81.37                  1            1   \n",
       "112391             40274       72509  60.68                  1            1   \n",
       "\n",
       "        PAN_flag  VoterID_flag  Driving_flag  Passport_flag  \\\n",
       "0              0             0             0              0   \n",
       "1              0             0             0              0   \n",
       "2              1             0             0              0   \n",
       "3              0             0             0              0   \n",
       "4              0             0             0              0   \n",
       "...          ...           ...           ...            ...   \n",
       "112387         0             0             0              0   \n",
       "112388         0             0             0              0   \n",
       "112389         0             0             0              0   \n",
       "112390         0             0             0              0   \n",
       "112391         1             0             0              0   \n",
       "\n",
       "        PERFORM_CNS.SCORE  ...  PRI.DISBURSED.AMOUNT  SEC.NO.OF.ACCTS  \\\n",
       "0                       0  ...                     0                0   \n",
       "1                     749  ...                 48780                0   \n",
       "2                       0  ...                     0                0   \n",
       "3                      14  ...                255000                0   \n",
       "4                       0  ...                     0                0   \n",
       "...                   ...  ...                   ...              ...   \n",
       "112387                  0  ...                     0                0   \n",
       "112388                  0  ...                     0                0   \n",
       "112389                785  ...                     0                0   \n",
       "112390                714  ...                100000                0   \n",
       "112391                  0  ...                     0                0   \n",
       "\n",
       "        SEC.ACTIVE.ACCTS  SEC.OVERDUE.ACCTS  SEC.CURRENT.BALANCE  \\\n",
       "0                      0                  0                    0   \n",
       "1                      0                  0                    0   \n",
       "2                      0                  0                    0   \n",
       "3                      0                  0                    0   \n",
       "4                      0                  0                    0   \n",
       "...                  ...                ...                  ...   \n",
       "112387                 0                  0                    0   \n",
       "112388                 0                  0                    0   \n",
       "112389                 0                  0                    0   \n",
       "112390                 0                  0                    0   \n",
       "112391                 0                  0                    0   \n",
       "\n",
       "        SEC.SANCTIONED.AMOUNT  SEC.DISBURSED.AMOUNT  PRIMARY.INSTAL.AMT  \\\n",
       "0                           0                     0                   0   \n",
       "1                           0                     0                5605   \n",
       "2                           0                     0                   0   \n",
       "3                           0                     0                   0   \n",
       "4                           0                     0                   0   \n",
       "...                       ...                   ...                 ...   \n",
       "112387                      0                     0                   0   \n",
       "112388                      0                     0                   0   \n",
       "112389                      0                     0                   0   \n",
       "112390                      0                     0                   0   \n",
       "112391                      0                     0                   0   \n",
       "\n",
       "        DELINQUENT.ACCTS.IN.LAST.SIX.MONTHS  AVERAGE.ACCT.AGE  \n",
       "0                                         0                 0  \n",
       "1                                         0                10  \n",
       "2                                         0                 0  \n",
       "3                                         0                87  \n",
       "4                                         0                 0  \n",
       "...                                     ...               ...  \n",
       "112387                                    0                 0  \n",
       "112388                                    0                 0  \n",
       "112389                                    0               105  \n",
       "112390                                    1                 5  \n",
       "112391                                    0                 0  \n",
       "\n",
       "[112392 rows x 26 columns]"
      ]
     },
     "execution_count": 54,
     "metadata": {},
     "output_type": "execute_result"
    }
   ],
   "source": [
    "test_data"
   ]
  },
  {
   "cell_type": "code",
   "execution_count": 55,
   "metadata": {},
   "outputs": [
    {
     "data": {
      "text/plain": [
       "(112392, 26)"
      ]
     },
     "execution_count": 55,
     "metadata": {},
     "output_type": "execute_result"
    }
   ],
   "source": [
    "import numpy as np\n",
    "test_data.shape"
   ]
  },
  {
   "cell_type": "markdown",
   "metadata": {},
   "source": [
    "# making predictions "
   ]
  },
  {
   "cell_type": "code",
   "execution_count": 56,
   "metadata": {
    "scrolled": true
   },
   "outputs": [
    {
     "data": {
      "text/plain": [
       "array([0, 0, 0, ..., 0, 0, 0], dtype=int64)"
      ]
     },
     "execution_count": 56,
     "metadata": {},
     "output_type": "execute_result"
    }
   ],
   "source": [
    "prediction = log.predict(test_data)\n",
    "prediction"
   ]
  },
  {
   "cell_type": "code",
   "execution_count": 57,
   "metadata": {},
   "outputs": [],
   "source": [
    "import pandas as pd\n",
    "output=pd.DataFrame(prediction,columns=['loan_default'])"
   ]
  },
  {
   "cell_type": "markdown",
   "metadata": {},
   "source": [
    "# here is our output"
   ]
  },
  {
   "cell_type": "code",
   "execution_count": 58,
   "metadata": {},
   "outputs": [
    {
     "data": {
      "text/html": [
       "<div>\n",
       "<style scoped>\n",
       "    .dataframe tbody tr th:only-of-type {\n",
       "        vertical-align: middle;\n",
       "    }\n",
       "\n",
       "    .dataframe tbody tr th {\n",
       "        vertical-align: top;\n",
       "    }\n",
       "\n",
       "    .dataframe thead th {\n",
       "        text-align: right;\n",
       "    }\n",
       "</style>\n",
       "<table border=\"1\" class=\"dataframe\">\n",
       "  <thead>\n",
       "    <tr style=\"text-align: right;\">\n",
       "      <th></th>\n",
       "      <th>loan_default</th>\n",
       "    </tr>\n",
       "  </thead>\n",
       "  <tbody>\n",
       "    <tr>\n",
       "      <td>0</td>\n",
       "      <td>0</td>\n",
       "    </tr>\n",
       "    <tr>\n",
       "      <td>1</td>\n",
       "      <td>0</td>\n",
       "    </tr>\n",
       "    <tr>\n",
       "      <td>2</td>\n",
       "      <td>0</td>\n",
       "    </tr>\n",
       "    <tr>\n",
       "      <td>3</td>\n",
       "      <td>0</td>\n",
       "    </tr>\n",
       "    <tr>\n",
       "      <td>4</td>\n",
       "      <td>0</td>\n",
       "    </tr>\n",
       "  </tbody>\n",
       "</table>\n",
       "</div>"
      ],
      "text/plain": [
       "   loan_default\n",
       "0             0\n",
       "1             0\n",
       "2             0\n",
       "3             0\n",
       "4             0"
      ]
     },
     "execution_count": 58,
     "metadata": {},
     "output_type": "execute_result"
    }
   ],
   "source": [
    "output.head(5)"
   ]
  },
  {
   "cell_type": "code",
   "execution_count": 59,
   "metadata": {},
   "outputs": [
    {
     "name": "stdout",
     "output_type": "stream",
     "text": [
      "MobileNo_Avl_Flag\n",
      "1    0.217071\n",
      "Name: loan_default, dtype: float64\n",
      "Aadhar_flag\n",
      "0    0.256406\n",
      "1    0.209597\n",
      "Name: loan_default, dtype: float64\n",
      "PAN_flag\n",
      "0    0.216830\n",
      "1    0.220022\n",
      "Name: loan_default, dtype: float64\n",
      "VoterID_flag\n",
      "0    0.209646\n",
      "1    0.260875\n",
      "Name: loan_default, dtype: float64\n",
      "Driving_flag\n",
      "0    0.217441\n",
      "1    0.201513\n",
      "Name: loan_default, dtype: float64\n",
      "Passport_flag\n",
      "0    0.217216\n",
      "1    0.149194\n",
      "Name: loan_default, dtype: float64\n",
      "PRI.NO.OF.ACCTS\n",
      "0      0.231313\n",
      "1      0.221196\n",
      "2      0.214770\n",
      "3      0.202689\n",
      "4      0.191784\n",
      "         ...   \n",
      "148    0.500000\n",
      "194    0.000000\n",
      "271    0.000000\n",
      "354    0.000000\n",
      "453    1.000000\n",
      "Name: loan_default, Length: 108, dtype: float64\n",
      "PRI.ACTIVE.ACCTS\n",
      "0      0.226623\n",
      "1      0.218333\n",
      "2      0.209615\n",
      "3      0.202070\n",
      "4      0.184316\n",
      "5      0.168428\n",
      "6      0.171090\n",
      "7      0.147632\n",
      "8      0.144759\n",
      "9      0.133598\n",
      "10     0.133981\n",
      "11     0.133333\n",
      "12     0.113537\n",
      "13     0.129944\n",
      "14     0.125000\n",
      "15     0.135417\n",
      "16     0.113208\n",
      "17     0.185185\n",
      "18     0.060606\n",
      "19     0.074074\n",
      "20     0.076923\n",
      "21     0.000000\n",
      "22     0.300000\n",
      "23     0.200000\n",
      "24     0.500000\n",
      "25     0.285714\n",
      "26     0.000000\n",
      "27     0.000000\n",
      "28     0.000000\n",
      "31     0.000000\n",
      "32     0.500000\n",
      "34     0.000000\n",
      "35     0.500000\n",
      "37     0.000000\n",
      "39     0.000000\n",
      "42     0.000000\n",
      "43     0.000000\n",
      "52     0.000000\n",
      "65     0.000000\n",
      "144    0.000000\n",
      "Name: loan_default, dtype: float64\n",
      "PRI.OVERDUE.ACCTS\n",
      "0     0.209823\n",
      "1     0.269504\n",
      "2     0.288470\n",
      "3     0.300333\n",
      "4     0.297030\n",
      "5     0.289157\n",
      "6     0.229167\n",
      "7     0.184211\n",
      "8     0.259259\n",
      "9     0.160000\n",
      "10    0.166667\n",
      "11    0.333333\n",
      "12    0.250000\n",
      "13    0.200000\n",
      "14    0.200000\n",
      "15    0.000000\n",
      "16    1.000000\n",
      "17    0.000000\n",
      "18    0.500000\n",
      "19    0.000000\n",
      "23    0.000000\n",
      "25    0.000000\n",
      "Name: loan_default, dtype: float64\n",
      "PRI.CURRENT.BALANCE\n",
      "-6678296     0.0\n",
      "-2018309     1.0\n",
      "-1738415     0.0\n",
      "-1408314     0.0\n",
      "-1306449     0.0\n",
      "            ... \n",
      " 63359040    0.0\n",
      " 63531320    0.0\n",
      " 66406160    0.0\n",
      " 75603400    0.0\n",
      " 96524920    0.0\n",
      "Name: loan_default, Length: 71341, dtype: float64\n",
      "PRI.SANCTIONED.AMOUNT\n",
      "0             0.226502\n",
      "1             0.314286\n",
      "2             0.333333\n",
      "3             0.250000\n",
      "4             0.450000\n",
      "                ...   \n",
      "86323888      0.000000\n",
      "92622816      0.000000\n",
      "100425000     0.000000\n",
      "105865712     0.000000\n",
      "1000000000    1.000000\n",
      "Name: loan_default, Length: 44390, dtype: float64\n",
      "PRI.DISBURSED.AMOUNT\n",
      "0             0.226339\n",
      "1             0.340909\n",
      "2             0.320000\n",
      "3             0.250000\n",
      "4             0.473684\n",
      "                ...   \n",
      "86024784      0.000000\n",
      "92628728      0.000000\n",
      "100425000     0.000000\n",
      "105755712     0.000000\n",
      "1000000000    1.000000\n",
      "Name: loan_default, Length: 47909, dtype: float64\n",
      "SEC.NO.OF.ACCTS\n",
      "0     0.217780\n",
      "1     0.197346\n",
      "2     0.166988\n",
      "3     0.207207\n",
      "4     0.184932\n",
      "5     0.141892\n",
      "6     0.176471\n",
      "7     0.226667\n",
      "8     0.147059\n",
      "9     0.210526\n",
      "10    0.142857\n",
      "11    0.241379\n",
      "12    0.153846\n",
      "13    0.352941\n",
      "14    0.272727\n",
      "15    0.100000\n",
      "16    0.181818\n",
      "17    0.000000\n",
      "18    0.333333\n",
      "19    0.166667\n",
      "20    0.250000\n",
      "21    0.000000\n",
      "22    0.000000\n",
      "23    0.000000\n",
      "24    0.000000\n",
      "25    0.000000\n",
      "28    0.000000\n",
      "29    0.000000\n",
      "30    0.500000\n",
      "31    0.000000\n",
      "34    0.000000\n",
      "35    0.000000\n",
      "37    0.000000\n",
      "38    0.500000\n",
      "42    0.000000\n",
      "46    0.000000\n",
      "52    0.000000\n",
      "Name: loan_default, dtype: float64\n",
      "SEC.ACTIVE.ACCTS\n",
      "0     0.217527\n",
      "1     0.194486\n",
      "2     0.160377\n",
      "3     0.184615\n",
      "4     0.224138\n",
      "5     0.230769\n",
      "6     0.250000\n",
      "7     0.136364\n",
      "8     0.117647\n",
      "9     0.090909\n",
      "10    0.444444\n",
      "11    0.000000\n",
      "12    0.500000\n",
      "13    0.000000\n",
      "14    0.000000\n",
      "15    0.250000\n",
      "16    0.000000\n",
      "17    0.000000\n",
      "20    0.000000\n",
      "21    0.000000\n",
      "22    0.500000\n",
      "26    0.000000\n",
      "36    0.000000\n",
      "Name: loan_default, dtype: float64\n",
      "SEC.OVERDUE.ACCTS\n",
      "0    0.217158\n",
      "1    0.193977\n",
      "2    0.261905\n",
      "3    0.234043\n",
      "4    0.157895\n",
      "5    0.250000\n",
      "6    0.333333\n",
      "7    0.000000\n",
      "8    0.000000\n",
      "Name: loan_default, dtype: float64\n",
      "SEC.CURRENT.BALANCE\n",
      "-574647      0.0\n",
      "-239782      0.0\n",
      "-155527      0.0\n",
      "-117138      0.0\n",
      "-31290       0.0\n",
      "            ... \n",
      " 19638280    0.0\n",
      " 22497172    0.0\n",
      " 24692024    0.0\n",
      " 29560540    0.0\n",
      " 36032852    0.0\n",
      "Name: loan_default, Length: 3246, dtype: float64\n",
      "SEC.SANCTIONED.AMOUNT\n",
      "0           0.217511\n",
      "1           0.333333\n",
      "8           0.000000\n",
      "9           0.000000\n",
      "18          0.000000\n",
      "              ...   \n",
      "18691002    0.000000\n",
      "19800000    0.000000\n",
      "25000000    0.000000\n",
      "26888200    0.000000\n",
      "30000000    0.000000\n",
      "Name: loan_default, Length: 2223, dtype: float64\n",
      "SEC.DISBURSED.AMOUNT\n",
      "0           0.217511\n",
      "1           0.400000\n",
      "8           0.000000\n",
      "9           0.000000\n",
      "18          0.000000\n",
      "              ...   \n",
      "18691002    0.000000\n",
      "19800000    0.000000\n",
      "25000000    0.000000\n",
      "26888200    0.000000\n",
      "30000000    0.000000\n",
      "Name: loan_default, Length: 2553, dtype: float64\n",
      "DELINQUENT.ACCTS.IN.LAST.SIX.MONTHS\n",
      "0     0.212515\n",
      "1     0.268991\n",
      "2     0.277733\n",
      "3     0.283054\n",
      "4     0.304348\n",
      "5     0.275862\n",
      "6     0.150000\n",
      "7     0.384615\n",
      "8     0.428571\n",
      "9     0.000000\n",
      "10    0.000000\n",
      "11    0.333333\n",
      "12    0.666667\n",
      "20    0.000000\n",
      "Name: loan_default, dtype: float64\n"
     ]
    }
   ],
   "source": [
    "for i in col:\n",
    "    print(train_data.groupby(i).mean()['loan_default'])"
   ]
  },
  {
   "cell_type": "markdown",
   "metadata": {},
   "source": [
    "# below code shows the loan default graph with the columns (OPTIONAL)"
   ]
  },
  {
   "cell_type": "code",
   "execution_count": 60,
   "metadata": {},
   "outputs": [
    {
     "data": {
      "image/png": "[encoded data removed]",
      "text/plain": [
       "<Figure size 504x2880 with 1 Axes>"
      ]
     },
     "metadata": {},
     "output_type": "display_data"
    },
    {
     "data": {
      "image/png": "[encoded data removed]",
      "text/plain": [
       "<Figure size 504x2880 with 1 Axes>"
      ]
     },
     "metadata": {},
     "output_type": "display_data"
    },
    {
     "data": {
      "image/png": "[encoded data removed]",
      "text/plain": [
       "<Figure size 504x2880 with 1 Axes>"
      ]
     },
     "metadata": {},
     "output_type": "display_data"
    },
    {
     "data": {
      "image/png": "[encoded data removed]",
      "text/plain": [
       "<Figure size 504x2880 with 1 Axes>"
      ]
     },
     "metadata": {},
     "output_type": "display_data"
    },
    {
     "data": {
      "image/png": "[encoded data removed]",
      "text/plain": [
       "<Figure size 504x2880 with 1 Axes>"
      ]
     },
     "metadata": {},
     "output_type": "display_data"
    },
    {
     "data": {
      "image/png": "[encoded data removed]",
      "text/plain": [
       "<Figure size 504x2880 with 1 Axes>"
      ]
     },
     "metadata": {},
     "output_type": "display_data"
    },
    {
     "data": {
      "image/png": "[encoded data removed]",
      "text/plain": [
       "<Figure size 504x2880 with 1 Axes>"
      ]
     },
     "metadata": {},
     "output_type": "display_data"
    },
    {
     "data": {
      "image/png": "[encoded data removed]",
      "text/plain": [
       "<Figure size 504x2880 with 1 Axes>"
      ]
     },
     "metadata": {},
     "output_type": "display_data"
    },
    {
     "data": {
      "image/png": "[encoded data removed]",
      "text/plain": [
       "<Figure size 504x2880 with 1 Axes>"
      ]
     },
     "metadata": {},
     "output_type": "display_data"
    },
    {
     "data": {
      "image/png": "[encoded data removed]",
      "text/plain": [
       "<Figure size 504x2880 with 1 Axes>"
      ]
     },
     "metadata": {},
     "output_type": "display_data"
    },
    {
     "data": {
      "image/png": "[encoded data removed]",
      "text/plain": [
       "<Figure size 504x2880 with 1 Axes>"
      ]
     },
     "metadata": {},
     "output_type": "display_data"
    },
    {
     "data": {
      "image/png": "[encoded data removed]",
      "text/plain": [
       "<Figure size 504x2880 with 1 Axes>"
      ]
     },
     "metadata": {},
     "output_type": "display_data"
    },
    {
     "data": {
      "image/png": "[encoded data removed]",
      "text/plain": [
       "<Figure size 504x2880 with 1 Axes>"
      ]
     },
     "metadata": {},
     "output_type": "display_data"
    },
    {
     "data": {
      "image/png": "[encoded data removed]",
      "text/plain": [
       "<Figure size 504x2880 with 1 Axes>"
      ]
     },
     "metadata": {},
     "output_type": "display_data"
    },
    {
     "data": {
      "image/png": "[encoded data removed]",
      "text/plain": [
       "<Figure size 504x2880 with 1 Axes>"
      ]
     },
     "metadata": {},
     "output_type": "display_data"
    },
    {
     "data": {
      "image/png": "[encoded data removed]",
      "text/plain": [
       "<Figure size 504x2880 with 1 Axes>"
      ]
     },
     "metadata": {},
     "output_type": "display_data"
    },
    {
     "data": {
      "image/png": "[encoded data removed]",
      "text/plain": [
       "<Figure size 504x2880 with 1 Axes>"
      ]
     },
     "metadata": {},
     "output_type": "display_data"
    },
    {
     "data": {
      "image/png": "[encoded data removed]",
      "text/plain": [
       "<Figure size 504x2880 with 1 Axes>"
      ]
     },
     "metadata": {},
     "output_type": "display_data"
    },
    {
     "data": {
      "image/png": "[encoded data removed]",
      "text/plain": [
       "<Figure size 504x2880 with 1 Axes>"
      ]
     },
     "metadata": {},
     "output_type": "display_data"
    }
   ],
   "source": [
    "for i ,j in zip(col,range(1,len(col)+1)):\n",
    "    plt.figure(figsize=(7,40))\n",
    "    plt.subplot(len(col),1,j)\n",
    "    plt.plot(train_data.groupby(i).mean()['loan_default'].index,train_data.groupby(i).mean()['loan_default'])\n",
    "    plt.title(i)"
   ]
  },
  {
   "cell_type": "code",
   "execution_count": null,
   "metadata": {},
   "outputs": [],
   "source": []
  }
 ],
 "metadata": {
  "kernelspec": {
   "display_name": "Python 3",
   "language": "python",
   "name": "python3"
  },
  "language_info": {
   "codemirror_mode": {
    "name": "ipython",
    "version": 3
   },
   "file_extension": ".py",
   "mimetype": "text/x-python",
   "name": "python",
   "nbconvert_exporter": "python",
   "pygments_lexer": "ipython3",
   "version": "3.7.4"
  }
 },
 "nbformat": 4,
 "nbformat_minor": 2
}
